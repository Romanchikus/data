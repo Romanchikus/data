{
 "cells": [
  {
   "cell_type": "code",
   "execution_count": 1,
   "metadata": {},
   "outputs": [],
   "source": [
    "import matplotlib.pyplot as plt\n",
    "import numpy as np\n",
    "import pandas as pd"
   ]
  },
  {
   "cell_type": "code",
   "execution_count": 61,
   "metadata": {},
   "outputs": [],
   "source": [
    "from sklearn.model_selection import GridSearchCV\n",
    "from sklearn.metrics import roc_auc_score\n",
    "from sklearn.datasets import load_digits\n",
    "from sklearn.model_selection import train_test_split\n",
    "from sklearn.svm import SVC\n",
    "import re\n",
    "from sklearn.metrics import f1_score\n",
    "from sklearn.model_selection import cross_val_score"
   ]
  },
  {
   "cell_type": "code",
   "execution_count": 68,
   "metadata": {},
   "outputs": [],
   "source": [
    "from sklearn.linear_model import LogisticRegression\n",
    "from sklearn.model_selection import GridSearchCV\n",
    "from sklearn.tree import DecisionTreeClassifier\n",
    "from sklearn.ensemble import RandomForestClassifier\n",
    "from sklearn.svm import SVC\n",
    "from sklearn.neural_network import MLPClassifier\n",
    "from sklearn.naive_bayes import GaussianNB\n",
    "from sklearn.ensemble import GradientBoostingClassifier \n",
    "from sklearn.neural_network import MLPClassifier "
   ]
  },
  {
   "cell_type": "code",
   "execution_count": 89,
   "metadata": {},
   "outputs": [
    {
     "data": {
      "text/html": [
       "<div>\n",
       "<style scoped>\n",
       "    .dataframe tbody tr th:only-of-type {\n",
       "        vertical-align: middle;\n",
       "    }\n",
       "\n",
       "    .dataframe tbody tr th {\n",
       "        vertical-align: top;\n",
       "    }\n",
       "\n",
       "    .dataframe thead th {\n",
       "        text-align: right;\n",
       "    }\n",
       "</style>\n",
       "<table border=\"1\" class=\"dataframe\">\n",
       "  <thead>\n",
       "    <tr style=\"text-align: right;\">\n",
       "      <th></th>\n",
       "      <th>Pclass</th>\n",
       "      <th>Name</th>\n",
       "      <th>Sex</th>\n",
       "      <th>Age</th>\n",
       "      <th>Fare</th>\n",
       "      <th>Cabin</th>\n",
       "      <th>Embarked</th>\n",
       "    </tr>\n",
       "  </thead>\n",
       "  <tbody>\n",
       "    <tr>\n",
       "      <th>0</th>\n",
       "      <td>3</td>\n",
       "      <td>0</td>\n",
       "      <td>1</td>\n",
       "      <td>2.0</td>\n",
       "      <td>0</td>\n",
       "      <td>2</td>\n",
       "      <td>2</td>\n",
       "    </tr>\n",
       "    <tr>\n",
       "      <th>1</th>\n",
       "      <td>3</td>\n",
       "      <td>2</td>\n",
       "      <td>0</td>\n",
       "      <td>3.0</td>\n",
       "      <td>0</td>\n",
       "      <td>2</td>\n",
       "      <td>0</td>\n",
       "    </tr>\n",
       "    <tr>\n",
       "      <th>2</th>\n",
       "      <td>2</td>\n",
       "      <td>0</td>\n",
       "      <td>1</td>\n",
       "      <td>3.0</td>\n",
       "      <td>0</td>\n",
       "      <td>2</td>\n",
       "      <td>2</td>\n",
       "    </tr>\n",
       "    <tr>\n",
       "      <th>3</th>\n",
       "      <td>3</td>\n",
       "      <td>0</td>\n",
       "      <td>1</td>\n",
       "      <td>2.0</td>\n",
       "      <td>0</td>\n",
       "      <td>2</td>\n",
       "      <td>0</td>\n",
       "    </tr>\n",
       "    <tr>\n",
       "      <th>4</th>\n",
       "      <td>3</td>\n",
       "      <td>2</td>\n",
       "      <td>0</td>\n",
       "      <td>1.0</td>\n",
       "      <td>0</td>\n",
       "      <td>2</td>\n",
       "      <td>0</td>\n",
       "    </tr>\n",
       "    <tr>\n",
       "      <th>5</th>\n",
       "      <td>3</td>\n",
       "      <td>0</td>\n",
       "      <td>1</td>\n",
       "      <td>0.0</td>\n",
       "      <td>0</td>\n",
       "      <td>2</td>\n",
       "      <td>0</td>\n",
       "    </tr>\n",
       "    <tr>\n",
       "      <th>6</th>\n",
       "      <td>3</td>\n",
       "      <td>1</td>\n",
       "      <td>0</td>\n",
       "      <td>2.0</td>\n",
       "      <td>0</td>\n",
       "      <td>2</td>\n",
       "      <td>2</td>\n",
       "    </tr>\n",
       "    <tr>\n",
       "      <th>7</th>\n",
       "      <td>2</td>\n",
       "      <td>0</td>\n",
       "      <td>1</td>\n",
       "      <td>1.0</td>\n",
       "      <td>1</td>\n",
       "      <td>2</td>\n",
       "      <td>0</td>\n",
       "    </tr>\n",
       "    <tr>\n",
       "      <th>8</th>\n",
       "      <td>3</td>\n",
       "      <td>2</td>\n",
       "      <td>0</td>\n",
       "      <td>1.0</td>\n",
       "      <td>0</td>\n",
       "      <td>2</td>\n",
       "      <td>1</td>\n",
       "    </tr>\n",
       "    <tr>\n",
       "      <th>9</th>\n",
       "      <td>3</td>\n",
       "      <td>0</td>\n",
       "      <td>1</td>\n",
       "      <td>1.0</td>\n",
       "      <td>1</td>\n",
       "      <td>2</td>\n",
       "      <td>0</td>\n",
       "    </tr>\n",
       "  </tbody>\n",
       "</table>\n",
       "</div>"
      ],
      "text/plain": [
       "   Pclass  Name  Sex  Age  Fare  Cabin  Embarked\n",
       "0       3     0    1  2.0     0      2         2\n",
       "1       3     2    0  3.0     0      2         0\n",
       "2       2     0    1  3.0     0      2         2\n",
       "3       3     0    1  2.0     0      2         0\n",
       "4       3     2    0  1.0     0      2         0\n",
       "5       3     0    1  0.0     0      2         0\n",
       "6       3     1    0  2.0     0      2         2\n",
       "7       2     0    1  1.0     1      2         0\n",
       "8       3     2    0  1.0     0      2         1\n",
       "9       3     0    1  1.0     1      2         0"
      ]
     },
     "execution_count": 89,
     "metadata": {},
     "output_type": "execute_result"
    }
   ],
   "source": [
    "cf = pd.read_csv('titanic.csv')\n",
    "test = pd.read_csv('test.csv')\n",
    "cabin_mapping = {\"A\": 0, \"B\": 0.4, \"C\": 0.8, \"D\": 1.2, \"E\": 1.6, \"F\": 2, \"G\": 2.4, \"T\": 2.8}\n",
    "mapp= {\"Mr.\": 0, \"Miss.\": 1, \"Mrs.\": 2, \"Master.\": 3, \"Dr.\": 3, \"Rev.\": 3, \"Col.\": 3, \"Major.\": 3, \"Mlle.\": 3,\n",
    "           \"Countess.\": 3,\"Ms.\": 3, \"Lady.\": 3, \"Jonkheer.\": 3, \"Don.\": 3, \"Dona.\" : 3, \"Mme.\": 3,\"Capt.\": 3,\"Sir.\": 3 }\n",
    "mappe = {\"S\": 0, \"C\": 1, \"Q\": 2}\n",
    "data = [cf, test]\n",
    "for df in data:\n",
    "    df['Cabin'] = df['Cabin'].str[:1].map(cabin_mapping)\n",
    "    dff=np.vectorize(lambda x: 2 if str(x) =='nan' else x)\n",
    "    df['Cabin']=dff(df['Cabin'])\n",
    "    dff=np.vectorize(lambda x: 1 if x =='male' else 0)\n",
    "    df['Sex']=dff(df['Sex'])\n",
    "    dff=np.vectorize(lambda x: 30 if str(x) =='nan' else x)\n",
    "    df['Age']=dff(df['Age'])\n",
    "    pat= '\\w[.]' \n",
    "    dff=np.vectorize(lambda x: re.search(pat,x) in np.array(x))\n",
    "    df['Name']=np.array([x for w in df['Name'] for x in w.split() if (re.findall(pat, x) and len(x)>2)])\n",
    "\n",
    "    df['Name'] = df['Name'].map(mapp)\n",
    "    \n",
    "    df['Embarked'] = df['Embarked'].map(mappe)\n",
    "    df['Embarked'] = df['Embarked'].fillna(0).astype(int)\n",
    "#     dff=np.vectorize(lambda x: 1 if x == 0 else 0)\n",
    "#     df['Mr.'] =dff(df['Name'])\n",
    "#     dff=np.vectorize(lambda x: 1 if x == 1 else 0)\n",
    "#     df['Miss.'] =dff(df['Name'])\n",
    "#     dff=np.vectorize(lambda x: 1 if x == 2 else 0)\n",
    "#     df['Mrs.'] =dff(df['Name'])\n",
    "#     dff=np.vectorize(lambda x: 1 if x == 3 else 0)\n",
    "#     df['other.'] =dff(df['Name'])\n",
    "#     df = df.drop(['Name'], axis=1)\n",
    "#     df.loc[ df['Age'] <= 16, 'Age'] = 0,\n",
    "#     df.loc[(df['Age'] > 16) & (df['Age'] <= 26), 'Age'] = 1,\n",
    "#     df.loc[(df['Age'] > 26) & (df['Age'] <= 36), 'Age'] = 2,\n",
    "#     df.loc[(df['Age'] > 36) & (df['Age'] <= 62), 'Age'] = 3,\n",
    "#     df.loc[ df['Age'] > 62, 'Age'] = 4\n",
    "for dataset in data:\n",
    "    dataset.loc[ dataset['Age'] <= 16, 'Age'] = 0,\n",
    "    dataset.loc[(dataset['Age'] > 16) & (dataset['Age'] <= 26), 'Age'] = 1,\n",
    "    dataset.loc[(dataset['Age'] > 26) & (dataset['Age'] <= 36), 'Age'] = 2,\n",
    "    dataset.loc[(dataset['Age'] > 36) & (dataset['Age'] <= 62), 'Age'] = 3,\n",
    "    dataset.loc[ dataset['Age'] > 62, 'Age'] = 4,\n",
    "    dataset.loc[ dataset['Fare'] <= 17, 'Fare'] = 0,\n",
    "    dataset.loc[(dataset['Fare'] > 17) & (dataset['Fare'] <= 30), 'Fare'] = 1,\n",
    "    dataset.loc[(dataset['Fare'] > 30) & (dataset['Fare'] <= 100), 'Fare'] = 2,\n",
    "    dataset.loc[ dataset['Fare'] > 100, 'Fare'] = 3\n",
    "    dataset['Fare'] = dataset['Fare'].fillna(0).astype(int)\n",
    "\n",
    "features_drop = ['Ticket', 'SibSp', 'Parch']\n",
    "cf = cf.drop(features_drop, axis=1)\n",
    "test = test.drop(features_drop, axis=1)\n",
    "\n",
    "target = cf['Survived']\n",
    "cf = cf.drop(['Survived'], axis=1)\n",
    "\n",
    "test_data = test.drop(\"PassengerId\", axis=1).copy()\n",
    "test_data[:10]\n",
    "features_drop = [\"PassengerId\"]\n",
    "cf = cf.drop(features_drop, axis=1)\n",
    "test_data[:10]"
   ]
  },
  {
   "cell_type": "code",
   "execution_count": 84,
   "metadata": {},
   "outputs": [],
   "source": [
    "X_train_scaled, X_test_scaled, y_train, y_test = train_test_split(cf, target,random_state= 0)\n",
    "# X_train_scaled, X_test_scaled, y_train, y_test,_ = apply_preprocessing(df_train, df_test)"
   ]
  },
  {
   "cell_type": "code",
   "execution_count": 85,
   "metadata": {},
   "outputs": [],
   "source": [
    "def run_GridSearchCV(clf,grid_values, X_train_scaled, X_test_scaled, y_train, y_test= None):\n",
    "#     print ('Running GridSearchCV.')\n",
    "#     grid_clf = GridSearchCV(clf, param_grid=grid_values,scoring='roc_auc')\n",
    "#     grid_clf.fit(X_train_scaled, y_train)\n",
    "#     print('Grid best parameter (max.roc_auc ): ', grid_clf.best_params_) \n",
    "#     print('Grid best score (roc_auc): ', grid_clf.best_score_) \n",
    "\n",
    "#     if not y_test is None:\n",
    "#         test_score= grid_clf.score(X_test_scaled, y_test)\n",
    "#         print(\"test roc_auc= {}\".format(test_score))\n",
    "\n",
    "    print ('Running GridSearchCV.')\n",
    "    grid_clf = GridSearchCV(clf, param_grid=grid_values,scoring='f1')\n",
    "    grid_clf.fit(X_train_scaled, y_train)\n",
    "    print('Grid best parameter (max f1 ): ', grid_clf.best_params_) \n",
    "    print('Grid best score (f1): ', grid_clf.best_score_) \n",
    "\n",
    "    if not y_test is None:\n",
    "        test_score= grid_clf.score(X_test_scaled, y_test)\n",
    "        print(\"test f1= {}\".format(test_score))\n",
    "def run_all_classifiers(X_train_scaled, X_test_scaled, y_train, y_test=None, list_classifiers= None):\n",
    "    if list_classifiers is None or 'LogisticRegression' in list_classifiers:\n",
    "        print ('\\nLogisticRegression.')\n",
    "        clf = LogisticRegression()\n",
    "        grid_values = {'C': [0.005, 0.01,0.1, 1, 100, 10000, 100000]}\n",
    "        run_GridSearchCV(clf,grid_values, X_train_scaled,X_test_scaled,  y_train,  y_test= y_test)\n",
    "\n",
    "    if list_classifiers is None or 'DecisionTreeClassifier' in list_classifiers:\n",
    "        print ('\\nDecisionTreeClassifier')\n",
    "        clf = DecisionTreeClassifier()       \n",
    "        grid_values = {'max_depth': [2,5,7, 20, 50]}\n",
    "        run_GridSearchCV(clf,grid_values, X_train_scaled, X_test_scaled, y_train,  y_test= y_test)   \n",
    "\n",
    "    if list_classifiers is None or 'RandomForestClassifier' in list_classifiers:\n",
    "        print ('\\nRandomForestClassifier.')\n",
    "        clf = RandomForestClassifier()       \n",
    "        grid_values = {'n_estimators': [20,50]} #,200,300]}\n",
    "        run_GridSearchCV(clf,grid_values, X_train_scaled,X_test_scaled, y_train,  y_test= y_test)   \n",
    "\n",
    "    if list_classifiers is None or 'SVC_poly' in list_classifiers:\n",
    "        print ('\\nSVC_poly')\n",
    "        clf = SVC(kernel='poly')           \n",
    "        grid_values = {'C': [0.01]}# , 0.1, 1, 100, ]}\n",
    "        run_GridSearchCV(clf,grid_values, X_train_scaled, X_test_scaled, y_train,  y_test= y_test)   \n",
    "\n",
    "    if list_classifiers is None or 'SVC_rbf' in list_classifiers:\n",
    "        print ('\\nSVC_rbf')\n",
    "        clf = SVC(kernel='rbf')\n",
    "        grid_values = {'C': [0.005, 0.01]}# , 0.02, 0.03, 0.1, 1, 100, 10000], 'gamma':[0.001, 0.01, 0.1]}\n",
    "        run_GridSearchCV(clf,grid_values, X_train_scaled, X_test_scaled, y_train,  y_test= y_test)   \n",
    "\n",
    "    if list_classifiers is None or 'NB' in list_classifiers:\n",
    "        print ('\\nNB')\n",
    "        clf =  GaussianNB().fit(X_train_scaled, y_train)\n",
    "        train_f1 = f1_score(y_train, clf.predict(X_train_scaled))\n",
    "        print(\"train set f1= {}\".format(train_f1))\n",
    "        if not y_test is None:\n",
    "            test_f1 = f1_score(y_test, clf.predict(X_test_scaled))\n",
    "            print(\"train set f1= {}\".format(test_f1))\n",
    "\n",
    "            \n",
    "    if list_classifiers is None or 'GradientBoostingClassifier' in list_classifiers:\n",
    "        print ('\\nGradientBoostingClassifier.')\n",
    "        clf = GradientBoostingClassifier() # learning_rate = 0.03)       \n",
    "        grid_values = {'max_depth': [3,5,7]}\n",
    "        run_GridSearchCV(clf,grid_values, X_train_scaled,X_test_scaled, y_train,  y_test= y_test)   \n",
    "\n",
    "    if list_classifiers is None or 'MLP' in list_classifiers:\n",
    "        print ('\\nMLP.')\n",
    "        clf = MLPClassifier(hidden_layer_sizes = [50]) #, 100])\n",
    "        grid_values = {'alpha' : [0.001, 0.01, 0.1, 1, 10]}\n",
    "        run_GridSearchCV(clf,grid_values, X_train_scaled,X_test_scaled, y_train,  y_test= y_test)   \n",
    "def plot_feature_importances(clf, features):\n",
    "    plt.figure(figsize=(6, 6), dpi=80)\n",
    "    c_features = len(features)\n",
    "    plt.barh(range(c_features), clf.feature_importances_)\n",
    "    plt.xlabel(\"Feature importance\")\n",
    "    plt.ylabel(\"Feature name\")\n",
    "    plt.yticks(np.arange(c_features), features)"
   ]
  },
  {
   "cell_type": "code",
   "execution_count": 55,
   "metadata": {},
   "outputs": [
    {
     "name": "stdout",
     "output_type": "stream",
     "text": [
      "\n",
      "LogisticRegression.\n",
      "Running GridSearchCV.\n"
     ]
    },
    {
     "name": "stderr",
     "output_type": "stream",
     "text": [
      "C:\\ProgramData\\Anaconda3\\lib\\site-packages\\sklearn\\model_selection\\_split.py:2053: FutureWarning: You should specify a value for 'cv' instead of relying on the default value. The default value will change from 3 to 5 in version 0.22.\n",
      "  warnings.warn(CV_WARNING, FutureWarning)\n",
      "C:\\ProgramData\\Anaconda3\\lib\\site-packages\\sklearn\\linear_model\\logistic.py:433: FutureWarning: Default solver will be changed to 'lbfgs' in 0.22. Specify a solver to silence this warning.\n",
      "  FutureWarning)\n",
      "C:\\ProgramData\\Anaconda3\\lib\\site-packages\\sklearn\\linear_model\\logistic.py:433: FutureWarning: Default solver will be changed to 'lbfgs' in 0.22. Specify a solver to silence this warning.\n",
      "  FutureWarning)\n",
      "C:\\ProgramData\\Anaconda3\\lib\\site-packages\\sklearn\\linear_model\\logistic.py:433: FutureWarning: Default solver will be changed to 'lbfgs' in 0.22. Specify a solver to silence this warning.\n",
      "  FutureWarning)\n",
      "C:\\ProgramData\\Anaconda3\\lib\\site-packages\\sklearn\\linear_model\\logistic.py:433: FutureWarning: Default solver will be changed to 'lbfgs' in 0.22. Specify a solver to silence this warning.\n",
      "  FutureWarning)\n",
      "C:\\ProgramData\\Anaconda3\\lib\\site-packages\\sklearn\\linear_model\\logistic.py:433: FutureWarning: Default solver will be changed to 'lbfgs' in 0.22. Specify a solver to silence this warning.\n",
      "  FutureWarning)\n",
      "C:\\ProgramData\\Anaconda3\\lib\\site-packages\\sklearn\\linear_model\\logistic.py:433: FutureWarning: Default solver will be changed to 'lbfgs' in 0.22. Specify a solver to silence this warning.\n",
      "  FutureWarning)\n",
      "C:\\ProgramData\\Anaconda3\\lib\\site-packages\\sklearn\\linear_model\\logistic.py:433: FutureWarning: Default solver will be changed to 'lbfgs' in 0.22. Specify a solver to silence this warning.\n",
      "  FutureWarning)\n",
      "C:\\ProgramData\\Anaconda3\\lib\\site-packages\\sklearn\\linear_model\\logistic.py:433: FutureWarning: Default solver will be changed to 'lbfgs' in 0.22. Specify a solver to silence this warning.\n",
      "  FutureWarning)\n",
      "C:\\ProgramData\\Anaconda3\\lib\\site-packages\\sklearn\\linear_model\\logistic.py:433: FutureWarning: Default solver will be changed to 'lbfgs' in 0.22. Specify a solver to silence this warning.\n",
      "  FutureWarning)\n",
      "C:\\ProgramData\\Anaconda3\\lib\\site-packages\\sklearn\\linear_model\\logistic.py:433: FutureWarning: Default solver will be changed to 'lbfgs' in 0.22. Specify a solver to silence this warning.\n",
      "  FutureWarning)\n",
      "C:\\ProgramData\\Anaconda3\\lib\\site-packages\\sklearn\\linear_model\\logistic.py:433: FutureWarning: Default solver will be changed to 'lbfgs' in 0.22. Specify a solver to silence this warning.\n",
      "  FutureWarning)\n",
      "C:\\ProgramData\\Anaconda3\\lib\\site-packages\\sklearn\\linear_model\\logistic.py:433: FutureWarning: Default solver will be changed to 'lbfgs' in 0.22. Specify a solver to silence this warning.\n",
      "  FutureWarning)\n",
      "C:\\ProgramData\\Anaconda3\\lib\\site-packages\\sklearn\\linear_model\\logistic.py:433: FutureWarning: Default solver will be changed to 'lbfgs' in 0.22. Specify a solver to silence this warning.\n",
      "  FutureWarning)\n",
      "C:\\ProgramData\\Anaconda3\\lib\\site-packages\\sklearn\\linear_model\\logistic.py:433: FutureWarning: Default solver will be changed to 'lbfgs' in 0.22. Specify a solver to silence this warning.\n",
      "  FutureWarning)\n",
      "C:\\ProgramData\\Anaconda3\\lib\\site-packages\\sklearn\\linear_model\\logistic.py:433: FutureWarning: Default solver will be changed to 'lbfgs' in 0.22. Specify a solver to silence this warning.\n",
      "  FutureWarning)\n",
      "C:\\ProgramData\\Anaconda3\\lib\\site-packages\\sklearn\\linear_model\\logistic.py:433: FutureWarning: Default solver will be changed to 'lbfgs' in 0.22. Specify a solver to silence this warning.\n",
      "  FutureWarning)\n",
      "C:\\ProgramData\\Anaconda3\\lib\\site-packages\\sklearn\\linear_model\\logistic.py:433: FutureWarning: Default solver will be changed to 'lbfgs' in 0.22. Specify a solver to silence this warning.\n",
      "  FutureWarning)\n",
      "C:\\ProgramData\\Anaconda3\\lib\\site-packages\\sklearn\\linear_model\\logistic.py:433: FutureWarning: Default solver will be changed to 'lbfgs' in 0.22. Specify a solver to silence this warning.\n",
      "  FutureWarning)\n",
      "C:\\ProgramData\\Anaconda3\\lib\\site-packages\\sklearn\\linear_model\\logistic.py:433: FutureWarning: Default solver will be changed to 'lbfgs' in 0.22. Specify a solver to silence this warning.\n",
      "  FutureWarning)\n",
      "C:\\ProgramData\\Anaconda3\\lib\\site-packages\\sklearn\\linear_model\\logistic.py:433: FutureWarning: Default solver will be changed to 'lbfgs' in 0.22. Specify a solver to silence this warning.\n",
      "  FutureWarning)\n",
      "C:\\ProgramData\\Anaconda3\\lib\\site-packages\\sklearn\\linear_model\\logistic.py:433: FutureWarning: Default solver will be changed to 'lbfgs' in 0.22. Specify a solver to silence this warning.\n",
      "  FutureWarning)\n",
      "C:\\ProgramData\\Anaconda3\\lib\\site-packages\\sklearn\\linear_model\\logistic.py:433: FutureWarning: Default solver will be changed to 'lbfgs' in 0.22. Specify a solver to silence this warning.\n",
      "  FutureWarning)\n",
      "C:\\ProgramData\\Anaconda3\\lib\\site-packages\\sklearn\\model_selection\\_split.py:2053: FutureWarning: You should specify a value for 'cv' instead of relying on the default value. The default value will change from 3 to 5 in version 0.22.\n",
      "  warnings.warn(CV_WARNING, FutureWarning)\n"
     ]
    },
    {
     "name": "stdout",
     "output_type": "stream",
     "text": [
      "Grid best parameter (max f1 ):  {'C': 100}\n",
      "Grid best score (f1):  0.7544658506046076\n",
      "test f1= 0.7199999999999999\n",
      "\n",
      "DecisionTreeClassifier\n",
      "Running GridSearchCV.\n",
      "Grid best parameter (max f1 ):  {'max_depth': 5}\n",
      "Grid best score (f1):  0.7090708344711967\n",
      "test f1= 0.7558139534883721\n",
      "\n",
      "RandomForestClassifier.\n",
      "Running GridSearchCV.\n"
     ]
    },
    {
     "name": "stderr",
     "output_type": "stream",
     "text": [
      "C:\\ProgramData\\Anaconda3\\lib\\site-packages\\sklearn\\model_selection\\_split.py:2053: FutureWarning: You should specify a value for 'cv' instead of relying on the default value. The default value will change from 3 to 5 in version 0.22.\n",
      "  warnings.warn(CV_WARNING, FutureWarning)\n"
     ]
    },
    {
     "name": "stdout",
     "output_type": "stream",
     "text": [
      "Grid best parameter (max f1 ):  {'n_estimators': 20}\n",
      "Grid best score (f1):  0.7048950785004817\n",
      "test f1= 0.746987951807229\n",
      "\n",
      "NB\n",
      "train set f1= 0.7222222222222221\n",
      "train set f1= 0.7263681592039801\n",
      "\n",
      "GradientBoostingClassifier.\n",
      "Running GridSearchCV.\n"
     ]
    },
    {
     "name": "stderr",
     "output_type": "stream",
     "text": [
      "C:\\ProgramData\\Anaconda3\\lib\\site-packages\\sklearn\\model_selection\\_split.py:2053: FutureWarning: You should specify a value for 'cv' instead of relying on the default value. The default value will change from 3 to 5 in version 0.22.\n",
      "  warnings.warn(CV_WARNING, FutureWarning)\n"
     ]
    },
    {
     "name": "stdout",
     "output_type": "stream",
     "text": [
      "Grid best parameter (max f1 ):  {'max_depth': 5}\n",
      "Grid best score (f1):  0.6906019017864893\n",
      "test f1= 0.7515151515151515\n",
      "\n",
      "MLP.\n",
      "Running GridSearchCV.\n"
     ]
    },
    {
     "name": "stderr",
     "output_type": "stream",
     "text": [
      "C:\\ProgramData\\Anaconda3\\lib\\site-packages\\sklearn\\model_selection\\_split.py:2053: FutureWarning: You should specify a value for 'cv' instead of relying on the default value. The default value will change from 3 to 5 in version 0.22.\n",
      "  warnings.warn(CV_WARNING, FutureWarning)\n",
      "C:\\ProgramData\\Anaconda3\\lib\\site-packages\\sklearn\\neural_network\\multilayer_perceptron.py:562: ConvergenceWarning: Stochastic Optimizer: Maximum iterations (200) reached and the optimization hasn't converged yet.\n",
      "  % self.max_iter, ConvergenceWarning)\n",
      "C:\\ProgramData\\Anaconda3\\lib\\site-packages\\sklearn\\neural_network\\multilayer_perceptron.py:562: ConvergenceWarning: Stochastic Optimizer: Maximum iterations (200) reached and the optimization hasn't converged yet.\n",
      "  % self.max_iter, ConvergenceWarning)\n",
      "C:\\ProgramData\\Anaconda3\\lib\\site-packages\\sklearn\\neural_network\\multilayer_perceptron.py:562: ConvergenceWarning: Stochastic Optimizer: Maximum iterations (200) reached and the optimization hasn't converged yet.\n",
      "  % self.max_iter, ConvergenceWarning)\n"
     ]
    },
    {
     "name": "stdout",
     "output_type": "stream",
     "text": [
      "Grid best parameter (max f1 ):  {'alpha': 0.01}\n",
      "Grid best score (f1):  0.7292021613384537\n",
      "test f1= 0.6500000000000001\n"
     ]
    }
   ],
   "source": [
    "list_classifiers= [\n",
    "    'LogisticRegression',\n",
    "    'DecisionTreeClassifier',\n",
    "    'RandomForestClassifier',\n",
    "    'NB',\n",
    "    'GradientBoostingClassifier', \n",
    "    'MLP', \n",
    "    \n",
    "   \n",
    "]\n",
    "run_all_classifiers(X_train_scaled, X_test_scaled, y_train, y_test, list_classifiers= list_classifiers)"
   ]
  },
  {
   "cell_type": "code",
   "execution_count": 99,
   "metadata": {},
   "outputs": [
    {
     "name": "stdout",
     "output_type": "stream",
     "text": [
      "[0.75789474 0.81553398 0.79245283 0.6741573  0.77669903]\n"
     ]
    },
    {
     "data": {
      "text/plain": [
       "0.3923444976076555"
      ]
     },
     "execution_count": 99,
     "metadata": {},
     "output_type": "execute_result"
    }
   ],
   "source": [
    "clf = RandomForestClassifier(n_estimators=20)       \n",
    "\n",
    "# review perfromance on whole set \n",
    "f1_train = cross_val_score(clf, X_train_scaled, y_train, cv=5, scoring='f1')\n",
    "print (f1_train)\n",
    "            \n",
    "# train and predict X_test\n",
    "clf.fit(X_train_scaled, y_train)\n",
    "y_predict= clf.predict(test_data)\n",
    "np.mean(y_predict)"
   ]
  },
  {
   "cell_type": "code",
   "execution_count": 100,
   "metadata": {},
   "outputs": [
    {
     "data": {
      "text/plain": [
       "7"
      ]
     },
     "execution_count": 100,
     "metadata": {},
     "output_type": "execute_result"
    }
   ],
   "source": [
    "len(features)"
   ]
  },
  {
   "cell_type": "code",
   "execution_count": 101,
   "metadata": {},
   "outputs": [
    {
     "name": "stdout",
     "output_type": "stream",
     "text": [
      "7 7\n"
     ]
    }
   ],
   "source": [
    "print (len(features),len(clf.feature_importances_))"
   ]
  },
  {
   "cell_type": "code",
   "execution_count": 104,
   "metadata": {},
   "outputs": [
    {
     "name": "stdout",
     "output_type": "stream",
     "text": [
      "train accuracy= 88.473%\n"
     ]
    },
    {
     "data": {
      "text/plain": [
       "<Figure size 432x288 with 0 Axes>"
      ]
     },
     "metadata": {},
     "output_type": "display_data"
    },
    {
     "data": {
      "image/png": "[encoded data removed]",
      "text/plain": [
       "<Figure size 480x480 with 1 Axes>"
      ]
     },
     "metadata": {
      "needs_background": "light"
     },
     "output_type": "display_data"
    }
   ],
   "source": [
    "features = list(cf)[:11]\n",
    "clf = RandomForestClassifier(n_estimators=20).fit(X_train_scaled, y_train)\n",
    "print(\"train accuracy= {:.3%}\".format(clf.score (X_train_scaled, y_train)))\n",
    "\n",
    "\n",
    "plt.figure ()\n",
    "plot_feature_importances(clf, features)\n"
   ]
  },
  {
   "cell_type": "code",
   "execution_count": 105,
   "metadata": {},
   "outputs": [
    {
     "name": "stdout",
     "output_type": "stream",
     "text": [
      "Score train= 0.8787878787878788\n"
     ]
    }
   ],
   "source": [
    "clf.fit(cf, target)\n",
    "prediction = clf.predict(test_data)\n",
    "print ('Score train= {}'.format(clf.score(cf,target)))"
   ]
  },
  {
   "cell_type": "code",
   "execution_count": 107,
   "metadata": {},
   "outputs": [],
   "source": [
    "submission = pd.DataFrame({\n",
    "        \"PassengerId\": test[\"PassengerId\"],\n",
    "        \"Survived\": prediction\n",
    "    })\n",
    "\n",
    "submission.to_csv('submission.csv', index=False)"
   ]
  },
  {
   "cell_type": "code",
   "execution_count": null,
   "metadata": {},
   "outputs": [],
   "source": []
  }
 ],
 "metadata": {
  "kernelspec": {
   "display_name": "Python 3",
   "language": "python",
   "name": "python3"
  },
  "language_info": {
   "codemirror_mode": {
    "name": "ipython",
    "version": 3
   },
   "file_extension": ".py",
   "mimetype": "text/x-python",
   "name": "python",
   "nbconvert_exporter": "python",
   "pygments_lexer": "ipython3",
   "version": "3.7.1"
  }
 },
 "nbformat": 4,
 "nbformat_minor": 2
}
