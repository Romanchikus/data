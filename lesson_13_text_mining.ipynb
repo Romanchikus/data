{
 "cells": [
  {
   "cell_type": "markdown",
   "metadata": {},
   "source": [
    "<font color = green >\n",
    "\n",
    "# Text Mining\n",
    "\n",
    "</font>"
   ]
  },
  {
   "cell_type": "markdown",
   "metadata": {},
   "source": [
    "<font color = green >\n",
    "\n",
    "## str methods  \n",
    "\n",
    "</font>"
   ]
  },
  {
   "cell_type": "code",
   "execution_count": 1,
   "metadata": {},
   "outputs": [
    {
     "name": "stdout",
     "output_type": "stream",
     "text": [
      "A computer program is said to learn from experience E \n",
      "with respect to some class of tasks T and performance measure P \n",
      "if its performance at tasks in T, as measured by P, \n",
      "improves with experience E. \n",
      "\t\t\t\t\t(Tom Mitchel)\n"
     ]
    }
   ],
   "source": [
    "text = 'A computer program is said to learn from experience E \\nwith respect to some class of tasks T'\\\n",
    "' and performance measure P \\nif its performance at tasks in T, as measured by P, \\nimproves with experience E. \\n\\t\\t\\t\\t\\t(Tom Mitchel)'\n",
    "print (text)"
   ]
  },
  {
   "cell_type": "code",
   "execution_count": 2,
   "metadata": {},
   "outputs": [
    {
     "data": {
      "text/plain": [
       "220"
      ]
     },
     "execution_count": 2,
     "metadata": {},
     "output_type": "execute_result"
    }
   ],
   "source": [
    "len(text)"
   ]
  },
  {
   "cell_type": "markdown",
   "metadata": {},
   "source": [
    "<font color = green >\n",
    "\n",
    "### Split\n",
    "\n",
    "</font>"
   ]
  },
  {
   "cell_type": "markdown",
   "metadata": {},
   "source": [
    "<font color = green >\n",
    "\n",
    "#### Split by char\n",
    "\n",
    "</font>"
   ]
  },
  {
   "cell_type": "code",
   "execution_count": 3,
   "metadata": {},
   "outputs": [
    {
     "name": "stdout",
     "output_type": "stream",
     "text": [
      "['A', 'computer', 'program', 'is', 'said', 'to', 'learn', 'from', 'experience', 'E', '\\nwith', 'respect', 'to', 'some', 'class', 'of', 'tasks', 'T', 'and', 'performance', 'measure', 'P', '\\nif', 'its', 'performance', 'at', 'tasks', 'in', 'T,', 'as', 'measured', 'by', 'P,', '\\nimproves', 'with', 'experience', 'E.', '\\n\\t\\t\\t\\t\\t(Tom', 'Mitchel)']\n"
     ]
    },
    {
     "data": {
      "text/plain": [
       "39"
      ]
     },
     "execution_count": 3,
     "metadata": {},
     "output_type": "execute_result"
    }
   ],
   "source": [
    "tokens= text.split(' ')\n",
    "print (tokens)\n",
    "len(tokens)"
   ]
  },
  {
   "cell_type": "markdown",
   "metadata": {},
   "source": [
    "<font color = green >\n",
    "\n",
    "#### Split by multi delimeters\n",
    "\n",
    "</font>"
   ]
  },
  {
   "cell_type": "code",
   "execution_count": 4,
   "metadata": {},
   "outputs": [],
   "source": [
    "import re"
   ]
  },
  {
   "cell_type": "code",
   "execution_count": 5,
   "metadata": {},
   "outputs": [
    {
     "name": "stdout",
     "output_type": "stream",
     "text": [
      "['A', 'computer', 'program', 'is', 'said', 'to', 'learn', 'from', 'experience', 'E', '\\nwith', 'respect', 'to', 'some', 'class', 'of', 'tasks', 'T', 'and', 'performance', 'measure', 'P', '\\nif', 'its', 'performance', 'at', 'tasks', 'in', 'T', '', 'as', 'measured', 'by', 'P', '', '\\nimproves', 'with', 'experience', 'E.', '\\n', '', '', '', '', '', 'Tom', 'Mitchel', '']\n"
     ]
    },
    {
     "data": {
      "text/plain": [
       "48"
      ]
     },
     "execution_count": 5,
     "metadata": {},
     "output_type": "execute_result"
    }
   ],
   "source": [
    "tokens= re.split(';| |,|\\(|\\|\\\\n|\\\\t|\\)',text)\n",
    "print (tokens)\n",
    "len(tokens)"
   ]
  },
  {
   "cell_type": "markdown",
   "metadata": {},
   "source": [
    "<font color = green >\n",
    "\n",
    "#### Split by newline char\n",
    "\n",
    "</font>"
   ]
  },
  {
   "cell_type": "code",
   "execution_count": 6,
   "metadata": {},
   "outputs": [
    {
     "name": "stdout",
     "output_type": "stream",
     "text": [
      "['A computer program is said to learn from experience E ', 'with respect to some class of tasks T and performance measure P ', 'if its performance at tasks in T, as measured by P, ', 'improves with experience E. ', '\\t\\t\\t\\t\\t(Tom Mitchel)']\n"
     ]
    }
   ],
   "source": [
    "print (text.splitlines())\n"
   ]
  },
  {
   "cell_type": "markdown",
   "metadata": {},
   "source": [
    "<font color = green >\n",
    "\n",
    "#### Split by any whitespace\n",
    "\n",
    "</font>"
   ]
  },
  {
   "cell_type": "code",
   "execution_count": 7,
   "metadata": {},
   "outputs": [
    {
     "name": "stdout",
     "output_type": "stream",
     "text": [
      "['A', 'computer', 'program', 'is', 'said', 'to', 'learn', 'from', 'experience', 'E', 'with', 'respect', 'to', 'some', 'class', 'of', 'tasks', 'T', 'and', 'performance', 'measure', 'P', 'if', 'its', 'performance', 'at', 'tasks', 'in', 'T,', 'as', 'measured', 'by', 'P,', 'improves', 'with', 'experience', 'E.', '(Tom', 'Mitchel)']\n"
     ]
    }
   ],
   "source": [
    "print (text.split())\n",
    "# if delimeter is not specified, any whitespace (space, newline etc.) is considered "
   ]
  },
  {
   "cell_type": "markdown",
   "metadata": {},
   "source": [
    "<font color = green >\n",
    "\n",
    "### Join\n",
    "\n",
    "</font>"
   ]
  },
  {
   "cell_type": "code",
   "execution_count": 8,
   "metadata": {},
   "outputs": [
    {
     "data": {
      "text/plain": [
       "'A__computer__program__is__said__to__learn__from__experience__E__\\nwith__respect__to__some__class__of__tasks__T__and__performance__measure__P__\\nif__its__performance__at__tasks__in__T____as__measured__by__P____\\nimproves__with__experience__E.__\\n____________Tom__Mitchel__'"
      ]
     },
     "execution_count": 8,
     "metadata": {},
     "output_type": "execute_result"
    }
   ],
   "source": [
    "'__'.join(tokens)\n"
   ]
  },
  {
   "cell_type": "markdown",
   "metadata": {},
   "source": [
    "<font color = green >\n",
    "\n",
    "#### Using join to exclude the file name\n",
    "\n",
    "</font>"
   ]
  },
  {
   "cell_type": "code",
   "execution_count": 9,
   "metadata": {},
   "outputs": [
    {
     "name": "stdout",
     "output_type": "stream",
     "text": [
      "http://localhost:8888/notebooks/science/studies/otsebriy/data_science_camp/lesson_13_text_mining.ipynb#Alphabet\n"
     ]
    },
    {
     "data": {
      "text/plain": [
       "'http://localhost:8888/notebooks/science/studies/otsebriy/data_science_camp'"
      ]
     },
     "execution_count": 9,
     "metadata": {},
     "output_type": "execute_result"
    }
   ],
   "source": [
    "url = 'http://localhost:8888/notebooks/science/studies/otsebriy/data_science_camp/lesson_13_text_mining.ipynb#Alphabet'\n",
    "print (url)\n",
    "'/'.join (url.split('/')[:-1])\n"
   ]
  },
  {
   "cell_type": "markdown",
   "metadata": {},
   "source": [
    "<font color = green >\n",
    "\n",
    "### Strip whitespace char \n",
    "\n",
    "</font>"
   ]
  },
  {
   "cell_type": "code",
   "execution_count": 10,
   "metadata": {},
   "outputs": [
    {
     "name": "stdout",
     "output_type": "stream",
     "text": [
      "['A', 'computer', 'program', 'is', 'said', 'to', 'learn', 'from', 'experience', 'E', '\\nwith', 'respect', 'to', 'some', 'class', 'of', 'tasks', 'T', 'and', 'performance', 'measure', 'P', '\\nif', 'its', 'performance', 'at', 'tasks', 'in', 'T,', 'as', 'measured', 'by', 'P,', '\\nimproves', 'with', 'experience', 'E.', '\\n\\t\\t\\t\\t\\t(Tom', 'Mitchel)']\n",
      "---------------------------------------------------------------------------------------------------- \n",
      " ['A', 'computer', 'program', 'is', 'said', 'to', 'learn', 'from', 'experience', 'E', 'with', 'respect', 'to', 'some', 'class', 'of', 'tasks', 'T', 'and', 'performance', 'measure', 'P', 'if', 'its', 'performance', 'at', 'tasks', 'in', 'T,', 'as', 'measured', 'by', 'P,', 'improves', 'with', 'experience', 'E.', '(Tom', 'Mitchel)']\n"
     ]
    }
   ],
   "source": [
    "print (text.split(' '))\n",
    "print ('-'*100, '\\n',[token.strip() for token in text.split()])"
   ]
  },
  {
   "cell_type": "markdown",
   "metadata": {},
   "source": [
    "<font color = green >\n",
    "\n",
    "### Filter tokens\n",
    "\n",
    "</font>"
   ]
  },
  {
   "cell_type": "markdown",
   "metadata": {},
   "source": [
    "<font color = green >\n",
    "\n",
    "#### Unique\n",
    "\n",
    "</font>"
   ]
  },
  {
   "cell_type": "code",
   "execution_count": 11,
   "metadata": {},
   "outputs": [
    {
     "name": "stdout",
     "output_type": "stream",
     "text": [
      "{'', 'A', 'experience', 'E', '\\nwith', 'Tom', 'class', 'to', 'from', 'P', 'learn', 'is', 'computer', 'measured', 'of', 'program', 'as', 'some', 'performance', 'at', '\\nimproves', 'E.', 'measure', 'said', 'respect', 'Mitchel', 'its', 'and', 'with', 'by', 'T', '\\nif', '\\n', 'tasks', 'in'}\n"
     ]
    },
    {
     "data": {
      "text/plain": [
       "35"
      ]
     },
     "execution_count": 11,
     "metadata": {},
     "output_type": "execute_result"
    }
   ],
   "source": [
    "tokens_set = set (tokens)\n",
    "print (tokens_set)\n",
    "len(tokens_set)\n"
   ]
  },
  {
   "cell_type": "markdown",
   "metadata": {},
   "source": [
    "<font color = green >\n",
    "\n",
    "#### Filetr by length\n",
    "\n",
    "</font>"
   ]
  },
  {
   "cell_type": "code",
   "execution_count": 12,
   "metadata": {},
   "outputs": [
    {
     "name": "stdout",
     "output_type": "stream",
     "text": [
      "['computer', 'program', 'said', 'learn', 'from', 'experience', '\\nwith', 'respect', 'some', 'class', 'tasks', 'and', 'performance', 'measure', '\\nif', 'its', 'performance', 'tasks', 'measured', '\\nimproves', 'with', 'experience', 'Tom', 'Mitchel']\n"
     ]
    }
   ],
   "source": [
    "print ([token for token in tokens if len(token) >2])"
   ]
  },
  {
   "cell_type": "markdown",
   "metadata": {},
   "source": [
    "<font color = green >\n",
    "\n",
    "#### Title\n",
    "\n",
    "</font>"
   ]
  },
  {
   "cell_type": "code",
   "execution_count": 13,
   "metadata": {},
   "outputs": [
    {
     "name": "stdout",
     "output_type": "stream",
     "text": [
      "['A', 'E', 'T', 'P', 'T', 'P', 'E.', 'Tom', 'Mitchel', 'Title']\n"
     ]
    }
   ],
   "source": [
    "tokens_re=tokens\n",
    "print ([token for token in tokens_re+['ALLCAPITAL', 'Title'] if token.istitle()]) "
   ]
  },
  {
   "cell_type": "markdown",
   "metadata": {},
   "source": [
    "<font color = green >\n",
    "\n",
    "#### All Capital \n",
    "\n",
    "</font>"
   ]
  },
  {
   "cell_type": "code",
   "execution_count": 14,
   "metadata": {},
   "outputs": [
    {
     "name": "stdout",
     "output_type": "stream",
     "text": [
      "['A', 'E', 'T', 'P', 'T', 'P', 'E.', 'ALLCAPITAL']\n"
     ]
    }
   ],
   "source": [
    "print ([token for token in tokens_re+['ALLCAPITAL', 'Title'] if token.isupper()]) "
   ]
  },
  {
   "cell_type": "markdown",
   "metadata": {},
   "source": [
    "<font color = green >\n",
    "\n",
    "#### All lower case \n",
    "\n",
    "</font>"
   ]
  },
  {
   "cell_type": "code",
   "execution_count": 15,
   "metadata": {},
   "outputs": [
    {
     "name": "stdout",
     "output_type": "stream",
     "text": [
      "['computer', 'program', 'is', 'said', 'to', 'learn', 'from', 'experience', '\\nwith', 'respect', 'to', 'some', 'class', 'of', 'tasks', 'and', 'performance', 'measure', '\\nif', 'its', 'performance', 'at', 'tasks', 'in', 'as', 'measured', 'by', '\\nimproves', 'with', 'experience']\n"
     ]
    }
   ],
   "source": [
    "print ([token for token in tokens_re+['ALLCAPITAL', 'Title'] if token.islower()]) "
   ]
  },
  {
   "cell_type": "markdown",
   "metadata": {},
   "source": [
    "<font color = green >\n",
    "\n",
    "#### Alphabet only \n",
    "\n",
    "</font>"
   ]
  },
  {
   "cell_type": "code",
   "execution_count": 16,
   "metadata": {},
   "outputs": [
    {
     "name": "stdout",
     "output_type": "stream",
     "text": [
      "['A', 'computer', 'program', 'is', 'said', 'to', 'learn', 'from', 'experience', 'E', 'привіт', 'å', '学']\n"
     ]
    }
   ],
   "source": [
    "print ([token for token in tokens_re[:10] +['24x7', '7', 'x64', 'привіт', 'å','©', '∆', '学'] if token.isalpha()]) "
   ]
  },
  {
   "cell_type": "markdown",
   "metadata": {},
   "source": [
    "<font color = green >\n",
    "\n",
    "#### Digits only\n",
    "\n",
    "</font>"
   ]
  },
  {
   "cell_type": "code",
   "execution_count": 17,
   "metadata": {},
   "outputs": [
    {
     "name": "stdout",
     "output_type": "stream",
     "text": [
      "['7']\n"
     ]
    }
   ],
   "source": [
    "print ([token for token in tokens_re[:10] +['24x7', '7', 'x64', 'привіт', 'å','©', '∆', '学'] if token.isdigit()]) "
   ]
  },
  {
   "cell_type": "markdown",
   "metadata": {},
   "source": [
    "<font color = green >\n",
    "\n",
    "#### Digits or alphabet\n",
    "\n",
    "</font>"
   ]
  },
  {
   "cell_type": "code",
   "execution_count": 18,
   "metadata": {},
   "outputs": [
    {
     "name": "stdout",
     "output_type": "stream",
     "text": [
      "['A', 'computer', 'program', 'is', 'said', 'to', 'learn', 'from', 'experience', 'E', '24x7', '7', 'x64', 'привіт', 'å', '学']\n"
     ]
    }
   ],
   "source": [
    "print ([token for token in tokens_re[:10] +['24x7', '7', 'x64', 'привіт', 'å','©', '∆', '学'] if token.isalnum()]) "
   ]
  },
  {
   "cell_type": "markdown",
   "metadata": {},
   "source": [
    "<font color = green >\n",
    "\n",
    "#### Starts with \n",
    "\n",
    "</font>"
   ]
  },
  {
   "cell_type": "code",
   "execution_count": 19,
   "metadata": {},
   "outputs": [
    {
     "name": "stdout",
     "output_type": "stream",
     "text": [
      "['is', 'its', 'in']\n"
     ]
    }
   ],
   "source": [
    "print ([token for token in tokens_re+['ALLCAPITAL', 'Title'] if token.startswith('i')]) "
   ]
  },
  {
   "cell_type": "markdown",
   "metadata": {},
   "source": [
    "<font color = green >\n",
    "\n",
    "#### Ends with \n",
    "\n",
    "</font>"
   ]
  },
  {
   "cell_type": "code",
   "execution_count": 20,
   "metadata": {},
   "outputs": [
    {
     "name": "stdout",
     "output_type": "stream",
     "text": [
      "['experience', 'performance', 'performance', 'experience']\n"
     ]
    }
   ],
   "source": [
    "print ([token for token in tokens_re+['ALLCAPITAL', 'Title'] if token.endswith('ce')]) "
   ]
  },
  {
   "cell_type": "markdown",
   "metadata": {},
   "source": [
    "<font color = green >\n",
    "\n",
    "#### Contains\n",
    "\n",
    "</font>"
   ]
  },
  {
   "cell_type": "code",
   "execution_count": 21,
   "metadata": {},
   "outputs": [
    {
     "name": "stdout",
     "output_type": "stream",
     "text": [
      "['class', 'tasks', 'measure', 'tasks', 'as', 'measured']\n"
     ]
    }
   ],
   "source": [
    "print ([token for token in tokens_re+['ALLCAPITAL', 'Title'] if 'as' in token]) "
   ]
  },
  {
   "cell_type": "markdown",
   "metadata": {},
   "source": [
    "<font color = green >\n",
    "\n",
    "#### Contains only English letters\n",
    "\n",
    "</font>"
   ]
  },
  {
   "cell_type": "code",
   "execution_count": 22,
   "metadata": {},
   "outputs": [
    {
     "name": "stdout",
     "output_type": "stream",
     "text": [
      "['a', 'b', 'c', 'd', 'e', 'f', 'g', 'h', 'i', 'j', 'k', 'l', 'm', 'n', 'o', 'p', 'q', 'r', 's', 't', 'u', 'v', 'w', 'x', 'y', 'z']\n",
      "\n",
      " ['A', 'computer', 'program', 'is', 'said', 'to', 'learn', 'from', 'experience', 'E', 'respect', 'to', 'some', 'class', 'of', 'tasks', 'T', 'and', 'performance', 'measure', 'P', 'its', 'performance', 'at', 'tasks', 'in', 'T', '', 'as', 'measured', 'by', 'P', '', 'with', 'experience', '', '', '', '', '', 'Tom', 'Mitchel', '', 'ALLCAPITAL', 'Title']\n"
     ]
    }
   ],
   "source": [
    "from string import ascii_lowercase\n",
    "english_letters = [c for c in ascii_lowercase]\n",
    "print (english_letters)\n",
    "print ('\\n',[token for token in tokens_re+['ALLCAPITAL', 'Title' ]+\n",
    "             ['24x7', '7', 'x64', 'привіт', 'å','©', '∆', '学'] \n",
    "             if len([char for char in token if char.lower() not in english_letters])==0] ) \n"
   ]
  },
  {
   "cell_type": "markdown",
   "metadata": {},
   "source": [
    "<font color = green >\n",
    "\n",
    "#### To lower case\n",
    "\n",
    "</font>"
   ]
  },
  {
   "cell_type": "code",
   "execution_count": 23,
   "metadata": {},
   "outputs": [
    {
     "name": "stdout",
     "output_type": "stream",
     "text": [
      "['a', 'computer', 'program', 'is', 'said', 'to', 'learn', 'from', 'experience', 'e', '\\nwith', 'respect', 'to', 'some', 'class', 'of', 'tasks', 't', 'and', 'performance', 'measure', 'p', '\\nif', 'its', 'performance', 'at', 'tasks', 'in', 't', '', 'as', 'measured', 'by', 'p', '', '\\nimproves', 'with', 'experience', 'e.', '\\n', '', '', '', '', '', 'tom', 'mitchel', '', 'allcapital', 'title', '24x7', '7', 'x64', 'привіт', 'å', '©', '∆', '学']\n"
     ]
    }
   ],
   "source": [
    "print ([token.lower() for token in tokens_re+['ALLCAPITAL', 'Title' ]+\n",
    "             ['24x7', '7', 'x64', 'привіт', 'å','©', '∆', '学']]) "
   ]
  },
  {
   "cell_type": "markdown",
   "metadata": {},
   "source": [
    "<font color = green >\n",
    "\n",
    "#### To upper case\n",
    "\n",
    "</font>"
   ]
  },
  {
   "cell_type": "code",
   "execution_count": 24,
   "metadata": {},
   "outputs": [
    {
     "name": "stdout",
     "output_type": "stream",
     "text": [
      "['A', 'COMPUTER', 'PROGRAM', 'IS', 'SAID', 'TO', 'LEARN', 'FROM', 'EXPERIENCE', 'E', '\\nWITH', 'RESPECT', 'TO', 'SOME', 'CLASS', 'OF', 'TASKS', 'T', 'AND', 'PERFORMANCE', 'MEASURE', 'P', '\\nIF', 'ITS', 'PERFORMANCE', 'AT', 'TASKS', 'IN', 'T', '', 'AS', 'MEASURED', 'BY', 'P', '', '\\nIMPROVES', 'WITH', 'EXPERIENCE', 'E.', '\\n', '', '', '', '', '', 'TOM', 'MITCHEL', '', 'ALLCAPITAL', 'TITLE', '24X7', '7', 'X64', 'ПРИВІТ', 'Å', '©', '∆', '学']\n"
     ]
    }
   ],
   "source": [
    "print ([token.upper() for token in tokens_re+['ALLCAPITAL', 'Title' ]+\n",
    "             ['24x7', '7', 'x64', 'привіт', 'å','©', '∆', '学']]) "
   ]
  },
  {
   "cell_type": "markdown",
   "metadata": {},
   "source": [
    "<font color = green >\n",
    "\n",
    "#### Make title\n",
    "\n",
    "</font>"
   ]
  },
  {
   "cell_type": "code",
   "execution_count": 25,
   "metadata": {},
   "outputs": [
    {
     "name": "stdout",
     "output_type": "stream",
     "text": [
      "['A', 'Computer', 'Program', 'Is', 'Said', 'To', 'Learn', 'From', 'Experience', 'E', '\\nWith', 'Respect', 'To', 'Some', 'Class', 'Of', 'Tasks', 'T', 'And', 'Performance', 'Measure', 'P', '\\nIf', 'Its', 'Performance', 'At', 'Tasks', 'In', 'T', '', 'As', 'Measured', 'By', 'P', '', '\\nImproves', 'With', 'Experience', 'E.', '\\n', '', '', '', '', '', 'Tom', 'Mitchel', '', 'Allcapital', 'Title', '24X7', '7', 'X64', 'Привіт', 'Å', '©', '∆', '学']\n"
     ]
    }
   ],
   "source": [
    "print ([token.title() for token in tokens_re+['ALLCAPITAL', 'Title' ]+\n",
    "             ['24x7', '7', 'x64', 'привіт', 'å','©', '∆', '学']]) "
   ]
  },
  {
   "cell_type": "markdown",
   "metadata": {},
   "source": [
    "<font color = green >\n",
    "\n",
    "### Find\n",
    "\n",
    "</font>"
   ]
  },
  {
   "cell_type": "code",
   "execution_count": 26,
   "metadata": {},
   "outputs": [
    {
     "name": "stdout",
     "output_type": "stream",
     "text": [
      "A computer program is said to learn from experience E \n",
      "with respect to some class of tasks T and performance measure P \n",
      "if its performance at tasks in T, as measured by P, \n",
      "improves with experience E. \n",
      "\t\t\t\t\t(Tom Mitchel)\n",
      "-1\n",
      "91\n",
      "T and performance m\n"
     ]
    }
   ],
   "source": [
    "print (text)\n",
    "\n",
    "print (text.find('tom')) # -1\n",
    "print (text.find('T'))\n",
    "print (text[91:110])\n"
   ]
  },
  {
   "cell_type": "markdown",
   "metadata": {},
   "source": [
    "<font color = green >\n",
    "\n",
    "#### Find from end\n",
    "\n",
    "</font>"
   ]
  },
  {
   "cell_type": "code",
   "execution_count": 27,
   "metadata": {},
   "outputs": [
    {
     "name": "stdout",
     "output_type": "stream",
     "text": [
      "214\n",
      "tchel)\n"
     ]
    }
   ],
   "source": [
    "print (text.rfind('t'))\n",
    "print (text[214:])"
   ]
  },
  {
   "cell_type": "markdown",
   "metadata": {},
   "source": [
    "<font color = green >\n",
    "\n",
    "### Replace\n",
    "\n",
    "</font>"
   ]
  },
  {
   "cell_type": "code",
   "execution_count": 28,
   "metadata": {},
   "outputs": [
    {
     "data": {
      "text/plain": [
       "'agadg'"
      ]
     },
     "execution_count": 28,
     "metadata": {},
     "output_type": "execute_result"
    }
   ],
   "source": [
    "capital_burkina_faso = 'ouagadougou'\n",
    "capital_burkina_faso.replace ('ou', '')\n"
   ]
  },
  {
   "cell_type": "code",
   "execution_count": null,
   "metadata": {},
   "outputs": [],
   "source": []
  },
  {
   "cell_type": "markdown",
   "metadata": {},
   "source": [
    "<font color = green >\n",
    "\n",
    "## Regular expressions (Regex)\n",
    "\n",
    "</font>\n",
    "\n",
    "Used to identify all occurrences of specified pattern in string(sequence of characters) with purpose to find, replace or delete certain string."
   ]
  },
  {
   "cell_type": "code",
   "execution_count": 29,
   "metadata": {},
   "outputs": [],
   "source": [
    "import re\n",
    "# import regex as re # this provided some extended functionality \n",
    "# e.g.\\p{l} that is modern code to match category \"letter\"."
   ]
  },
  {
   "cell_type": "markdown",
   "metadata": {},
   "source": [
    "Note: r\"smth\" - raw string literal are stored as they appear.\n",
    "<br>\n",
    "\\ is just a backslash when prefixed with a r whereas it is interpreted as an escape sequence w/o r.\n"
   ]
  },
  {
   "cell_type": "markdown",
   "metadata": {},
   "source": [
    "<font color = green >\n",
    "\n",
    "### re.search\n",
    "\n",
    "</font>\n",
    "Looks for the first location where regular expression pattern produces a match\n",
    "and return a corresponding MatchObject instance. Return None if no position in the string matches the pattern"
   ]
  },
  {
   "cell_type": "code",
   "execution_count": 768,
   "metadata": {},
   "outputs": [
    {
     "name": "stdout",
     "output_type": "stream",
     "text": [
      "<re.Match object; span=(8, 16), match='learning'>\n"
     ]
    }
   ],
   "source": [
    "target = r'Machine learning is an field of AI that provides computer systems the ability to automatically learn and improve from experience without being explicitly programmed'\n",
    "pattern = \"learn[\\w]*\"\n",
    "print (re.search(pattern, target))\n"
   ]
  },
  {
   "cell_type": "code",
   "execution_count": 769,
   "metadata": {},
   "outputs": [
    {
     "name": "stdout",
     "output_type": "stream",
     "text": [
      "<re.Match object; span=(8, 16), match='learning'>\n"
     ]
    }
   ],
   "source": [
    "pattern = \"learn[\\w]*\"\n",
    "print (re.search(pattern, target))\n"
   ]
  },
  {
   "cell_type": "markdown",
   "metadata": {},
   "source": [
    "<font color = green >\n",
    "\n",
    "### re.findall\n",
    "\n",
    "</font>\n",
    "Return all non-overlapping matches of pattern in string, as a list of strings."
   ]
  },
  {
   "cell_type": "code",
   "execution_count": 32,
   "metadata": {},
   "outputs": [
    {
     "data": {
      "text/plain": [
       "<re.Match object; span=(8, 16), match='learning'>"
      ]
     },
     "execution_count": 32,
     "metadata": {},
     "output_type": "execute_result"
    }
   ],
   "source": [
    "target = r'Machine learning is an field of AI that provides computer systems the ability to automatically learn and improve from experience without being explicitly programmed'\n",
    "pattern = \"learn[\\w]*\"\n",
    "re.search(pattern, target)\n"
   ]
  },
  {
   "cell_type": "markdown",
   "metadata": {},
   "source": [
    "<font color = green >\n",
    "\n",
    "### Compile pattern\n",
    "\n",
    "</font>\n",
    "is more efficient when the expression will be used several times in a single program"
   ]
  },
  {
   "cell_type": "code",
   "execution_count": 33,
   "metadata": {},
   "outputs": [
    {
     "data": {
      "text/plain": [
       "['learning', 'learn']"
      ]
     },
     "execution_count": 33,
     "metadata": {},
     "output_type": "execute_result"
    }
   ],
   "source": [
    "pat = re.compile(pattern)\n",
    "pat.findall(target)\n",
    "# the same as re.findall(pattern, target)"
   ]
  },
  {
   "cell_type": "markdown",
   "metadata": {},
   "source": [
    "<font color = green >\n",
    "\n",
    "###  Special char \\w  (word char)\n",
    "\n",
    "</font>\n",
    "Matches any single letter, digit or underscore: \\w = A-Za-z0-9_"
   ]
  },
  {
   "cell_type": "code",
   "execution_count": 775,
   "metadata": {},
   "outputs": [
    {
     "name": "stdout",
     "output_type": "stream",
     "text": [
      "@google\n"
     ]
    }
   ],
   "source": [
    "target_list = 'test@google.com, test@crowdin.com'\n",
    "pat= '@[\\w]+' \n",
    "# print ([w for w in target_list if re.search(pat,w)])\n",
    "print  (re.search(pat,target_list).group(0))"
   ]
  },
  {
   "cell_type": "markdown",
   "metadata": {},
   "source": [
    "<font color = green >\n",
    "\n",
    "### Special char .  (period/wild char)\n",
    "\n",
    "</font>\n",
    ". Matches any single character except newline character.\n",
    "<br>Note: if it is in square brackets it has its exact meaning as dot "
   ]
  },
  {
   "cell_type": "code",
   "execution_count": 35,
   "metadata": {},
   "outputs": [
    {
     "name": "stdout",
     "output_type": "stream",
     "text": [
      "['abi', 'ati']\n",
      "<re.Match object; span=(0, 15), match='test@google.com'>\n",
      "None\n",
      "<re.Match object; span=(0, 15), match='test@google.com'>\n"
     ]
    }
   ],
   "source": [
    "target = r'Machine learning is an field of AI that provides computer systems the ability to automatically learn and improve from experience without being explicitly programmed'\n",
    "pat = \"a.i\"\n",
    "print (re.findall(pat, target)) # used as wild char \n",
    "\n",
    "print (re.search ('t.*m', 'test@google.com')) # used as wild char  \n",
    "print (re.search ('t[.]*m', 'test@google.com')) # used as dot \n",
    "print (re.search ('t[@\\w.]*m', 'test@google.com')) # used as dot \n"
   ]
  },
  {
   "cell_type": "markdown",
   "metadata": {},
   "source": [
    "<font color = green >\n",
    "\n",
    "### Special char ^\n",
    "\n",
    "\n",
    "</font>\n",
    "start of string if patterns begins with, but if in the square brackets it exludes the set of chars in brackets (see below)."
   ]
  },
  {
   "cell_type": "code",
   "execution_count": 36,
   "metadata": {},
   "outputs": [
    {
     "name": "stdout",
     "output_type": "stream",
     "text": [
      "['Machine', 'learning', 'is', 'an', 'field', 'of', 'AI', 'that', 'provides', 'computer', 'systems', 'the', 'ability', 'to', 'automatically', 'learn', 'and', 'improve', 'from', 'experience', 'without', 'being', 'explicitly', 'programmed'] \n",
      "\n",
      "['is', 'improve']\n"
     ]
    }
   ],
   "source": [
    "tl = target.split()\n",
    "print (tl, '\\n')\n",
    "print ([w for w in tl if re.search('^i', w)])"
   ]
  },
  {
   "cell_type": "markdown",
   "metadata": {},
   "source": [
    "<font color = green >\n",
    "\n",
    "### Special char $\n",
    "\n",
    "</font>\n",
    "end of string "
   ]
  },
  {
   "cell_type": "code",
   "execution_count": 37,
   "metadata": {},
   "outputs": [
    {
     "name": "stdout",
     "output_type": "stream",
     "text": [
      "['Machine', 'learning', 'is', 'an', 'field', 'of', 'AI', 'that', 'provides', 'computer', 'systems', 'the', 'ability', 'to', 'automatically', 'learn', 'and', 'improve', 'from', 'experience', 'without', 'being', 'explicitly', 'programmed'] \n",
      "\n",
      "['ability', 'automatically', 'explicitly']\n"
     ]
    }
   ],
   "source": [
    "print (tl, '\\n')\n",
    "print ([w for w in tl if re.search('y$', w)])"
   ]
  },
  {
   "cell_type": "markdown",
   "metadata": {},
   "source": [
    "<font color = green >\n",
    "\n",
    "### Square brackets [ ]\n",
    "\n",
    "</font>\n",
    "Matches one of set of chars "
   ]
  },
  {
   "cell_type": "code",
   "execution_count": 38,
   "metadata": {},
   "outputs": [
    {
     "name": "stdout",
     "output_type": "stream",
     "text": [
      "['Machine', 'learning', 'is', 'an', 'field', 'of', 'AI', 'that', 'provides', 'computer', 'systems', 'the', 'ability', 'to', 'automatically', 'learn', 'and', 'improve', 'from', 'experience', 'without', 'being', 'explicitly', 'programmed'] \n",
      "\n",
      "['experience', 'explicitly']\n"
     ]
    }
   ],
   "source": [
    "print (tl, '\\n')\n",
    "pat = 'exp[el]'\n",
    "print ([w for w in tl if re.search(pat, w)])"
   ]
  },
  {
   "cell_type": "markdown",
   "metadata": {},
   "source": [
    "<font color = green >\n",
    "\n",
    "### Special char - \n",
    "\n",
    "</font>\n",
    "Range if in square brackets"
   ]
  },
  {
   "cell_type": "code",
   "execution_count": 39,
   "metadata": {},
   "outputs": [
    {
     "data": {
      "text/plain": [
       "<re.Match object; span=(5, 6), match='-'>"
      ]
     },
     "execution_count": 39,
     "metadata": {},
     "output_type": "execute_result"
    }
   ],
   "source": [
    "# direct meaning \n",
    "target = 'Ivano-Frankivsk'\n",
    "re.search('-', target)\n"
   ]
  },
  {
   "cell_type": "code",
   "execution_count": 40,
   "metadata": {},
   "outputs": [
    {
     "data": {
      "text/plain": [
       "<re.Match object; span=(7, 8), match='r'>"
      ]
     },
     "execution_count": 40,
     "metadata": {},
     "output_type": "execute_result"
    }
   ],
   "source": [
    "# range meaning \n",
    "target = 'Ivano-Frankivsk'\n",
    "re.search('[p-u]', target)"
   ]
  },
  {
   "cell_type": "markdown",
   "metadata": {},
   "source": [
    "<font color = green >\n",
    "\n",
    "### Special char ^ in square breckets\n",
    "\n",
    "\n",
    "</font>\n",
    "Exludes the set of chars in brackets "
   ]
  },
  {
   "cell_type": "code",
   "execution_count": 41,
   "metadata": {},
   "outputs": [
    {
     "name": "stdout",
     "output_type": "stream",
     "text": [
      "['Machine', 'learning', 'is', 'an', 'field', 'of', 'AI', 'that', 'provides', 'computer', 'systems', 'the', 'ability', 'to', 'automatically', 'learn', 'and', 'improve', 'from', 'experience', 'without', 'being', 'explicitly', 'programmed'] \n",
      "\n",
      "['learning', 'and', 'being']\n"
     ]
    }
   ],
   "source": [
    "print (tl, '\\n')\n",
    "print ([w for w in tl if re.search('n[^e]$', w)]) # 'n' is on -2 index folloed by any char but 'e' as last char"
   ]
  },
  {
   "cell_type": "markdown",
   "metadata": {},
   "source": [
    "<font color = green >\n",
    "\n",
    "### Special char | \n",
    "\n",
    "\n",
    "</font>\n",
    "Matches to a or b, where both are str"
   ]
  },
  {
   "cell_type": "code",
   "execution_count": 42,
   "metadata": {},
   "outputs": [
    {
     "name": "stdout",
     "output_type": "stream",
     "text": [
      "[\"Monday: The doctor's appointment is at 2:45pm.\", 'Wednesday: At 7:00pm, there is a basketball game!']\n"
     ]
    }
   ],
   "source": [
    "text_list = [\"Monday: The doctor's appointment is at 2:45pm.\",\n",
    "                  \"Tuesday: The dentist's appointment is at 11:30 am.\",\n",
    "                  \"Wednesday: At 7:00pm, there is a basketball game!\",\n",
    "                  \"Thursday: Be back home by 11:15 pm at the latest.\",\n",
    "                  \"Friday: Take the train at 08:10 am, arrive at 09:00am.\"]\n",
    "pat = 'Mon|Wed'\n",
    "print ([s for s in text_list if re.search(pat, s)]) "
   ]
  },
  {
   "cell_type": "markdown",
   "metadata": {},
   "source": [
    "<font color = green >\n",
    "\n",
    "### Scoping for oeprators  ( ) \n",
    "\n",
    "</font>\n",
    "\n"
   ]
  },
  {
   "cell_type": "code",
   "execution_count": 43,
   "metadata": {},
   "outputs": [
    {
     "name": "stdout",
     "output_type": "stream",
     "text": [
      "['Machine learning']\n",
      "['learnin']\n"
     ]
    }
   ],
   "source": [
    "text = 'Machine learning is fascinating'\n",
    "pat = '.*l\\w*g' # pulls out the whole mathced string \n",
    "print (re.findall(pat, text))\n",
    "pat = '.*(l\\w*)g' # pulls out only specified scope of mathced string \n",
    "print (re.findall(pat, text))"
   ]
  },
  {
   "cell_type": "markdown",
   "metadata": {},
   "source": [
    "<font color = green >\n",
    "\n",
    "### Regular parentheses \n",
    "\n",
    "</font>\n",
    "\n",
    "`(?:...)`\n"
   ]
  },
  {
   "cell_type": "markdown",
   "metadata": {},
   "source": [
    "<font color = green >\n",
    "\n",
    "### Escape char \\ \n",
    "\n",
    "</font>\n",
    "\n"
   ]
  },
  {
   "cell_type": "code",
   "execution_count": 44,
   "metadata": {},
   "outputs": [
    {
     "name": "stdout",
     "output_type": "stream",
     "text": [
      "Machine learning is fascinating\b\n",
      "['g', 'g']\n"
     ]
    }
   ],
   "source": [
    "text = 'Machine learning is fascinating\\b'\n",
    "print (text)\n",
    "pat = 'g\\\\b' # \\b is special regex char  (boundary) see below. Note: here you may use  pat = r'g\\b', though \n",
    "print (re.findall(pat, text))"
   ]
  },
  {
   "cell_type": "markdown",
   "metadata": {},
   "source": [
    "<font color = green >\n",
    "\n",
    "### Word boundary  \\b\n",
    "\n",
    "</font>\n",
    "\n"
   ]
  },
  {
   "cell_type": "code",
   "execution_count": 45,
   "metadata": {},
   "outputs": [
    {
     "name": "stdout",
     "output_type": "stream",
     "text": [
      "A computer program is said to learn from experience E \n",
      "with respect to some class of tasks T and performance measure P \n",
      "if its performance at tasks in T, as measured by P, \n",
      "improves with experience E. \n",
      "\t\t\t\t\t(Tom Mitchel)\n",
      "['comput', 't', 'wit', 'respect', 't', 't', 'it', 'at', 't', 'wit', 'Mit']\n",
      "['respect', 'at']\n",
      "['computer', 'class']\n"
     ]
    }
   ],
   "source": [
    "text = 'A computer program is said to learn from experience E \\nwith respect to some class of tasks T'\\\n",
    "' and performance measure P \\nif its performance at tasks in T, as measured by P, \\nimproves with experience E. \\n\\t\\t\\t\\t\\t(Tom Mitchel)'\n",
    "print (text)\n",
    "pat = r'\\w*t' # this finds all strings that contain t and returns from beginning to t \n",
    "print (re.findall(pat, text))\n",
    "pat = r'\\w*t\\b' # this finds all strings  that ends with t \n",
    "print (re.findall(pat, text))\n",
    "pat = r'\\bc\\w*' # this finds all strings that starts with c \n",
    "print (re.findall(pat, text))\n",
    "\n"
   ]
  },
  {
   "cell_type": "code",
   "execution_count": 46,
   "metadata": {},
   "outputs": [
    {
     "name": "stdout",
     "output_type": "stream",
     "text": [
      "catmania thiscat thiscatmaina \n",
      "looking for \"cat\"\n",
      "\n",
      "Case 1: At the beginning of each word\n",
      "***mania thiscat thiscatmaina\n",
      "\n",
      "Case 2: At the end of each word\n",
      "catmania this*** thiscatmaina\n",
      "\n",
      "Case 3: Not in the beginning\n",
      "catmania this*** this***maina\n",
      "\n",
      "Case 4: Not in the end\n",
      "***mania thiscat this***maina\n",
      "\n",
      "Case 5: Neither beginning nor end\n",
      "catmania thiscat this***maina\n",
      "\n",
      "Case 6: At the beginning or at the end of each word\n",
      "***mania this*** thiscatmaina\n"
     ]
    }
   ],
   "source": [
    "# More about boundaries \n",
    "text = \"catmania thiscat thiscatmaina\";\n",
    "print (text, '\\nlooking for \"cat\"')\n",
    "\n",
    "# '\\b' finds/matches the pattern at the beginning or end of each word.\n",
    "# '\\B' does not find/match the pattern at the beginning or end of each word.\n",
    "\n",
    "\n",
    "print ('\\nCase 1: At the beginning of each word')\n",
    "print (re.sub(r'\\bcat', \"***\", text))\n",
    "\n",
    "\n",
    "print ('\\nCase 2: At the end of each word')\n",
    "print (re.sub(r'cat\\b', \"***\", text))\n",
    "\n",
    "print ('\\nCase 3: Not in the beginning')\n",
    "print (re.sub(r'\\Bcat', \"***\", text))\n",
    "\n",
    "      \n",
    "print ('\\nCase 4: Not in the end')\n",
    "print (re.sub(r'cat\\B', \"***\", text))\n",
    "\n",
    "print ('\\nCase 5: Neither beginning nor end')\n",
    "print (re.sub(r'\\Bcat\\B', \"***\", text))\n",
    "\n",
    "print ('\\nCase 6: At the beginning or at the end of each word')\n",
    "print (re.sub(r'\\bcat|cat\\b', \"***\", text))\n"
   ]
  },
  {
   "cell_type": "markdown",
   "metadata": {},
   "source": [
    "<font color = green >\n",
    "\n",
    "### Digit  \\d\n",
    "\n",
    "</font>\n",
    "\n",
    "equivalent to `[0-9]`"
   ]
  },
  {
   "cell_type": "code",
   "execution_count": 47,
   "metadata": {},
   "outputs": [
    {
     "data": {
      "text/plain": [
       "['5', '2', '5', '3', '5']"
      ]
     },
     "execution_count": 47,
     "metadata": {},
     "output_type": "execute_result"
    }
   ],
   "source": [
    "text = 'BMW 525, Hyundai i35, Mercedes S-class'\n",
    "re.findall('\\d', text)"
   ]
  },
  {
   "cell_type": "markdown",
   "metadata": {},
   "source": [
    "<font color = green >\n",
    "\n",
    "### Non-digit  \\D\n",
    "</font>\n",
    "\n",
    "equivalent to `[^0-9]`"
   ]
  },
  {
   "cell_type": "code",
   "execution_count": 48,
   "metadata": {},
   "outputs": [
    {
     "name": "stdout",
     "output_type": "stream",
     "text": [
      "['B', 'M', 'W', ' ', ',', ' ', 'H', 'y', 'u', 'n', 'd', 'a', 'i', ' ', 'i', ',', ' ', 'M', 'e', 'r', 'c', 'e', 'd', 'e', 's', ' ', 'S', '-', 'c', 'l', 'a', 's', 's']\n"
     ]
    }
   ],
   "source": [
    "text = 'BMW 525, Hyundai i35, Mercedes S-class'\n",
    "print (re.findall('\\D', text))"
   ]
  },
  {
   "cell_type": "markdown",
   "metadata": {},
   "source": [
    "<font color = green >\n",
    "\n",
    "### Whitespace \\s\n",
    "\n",
    "</font>\n",
    "\n",
    "equivalent to `[ \\t\\n\\r\\f\\v]`"
   ]
  },
  {
   "cell_type": "code",
   "execution_count": 49,
   "metadata": {},
   "outputs": [
    {
     "name": "stdout",
     "output_type": "stream",
     "text": [
      "BMW 525, \n",
      "Hyundai i35,\tMercedes S-class\n",
      "[' ', ' ', '\\n', ' ', '\\t', ' ']\n"
     ]
    }
   ],
   "source": [
    "text = 'BMW 525, \\nHyundai i35,\\tMercedes S-class'\n",
    "print (text)\n",
    "print (re.findall('\\s', text))"
   ]
  },
  {
   "cell_type": "markdown",
   "metadata": {},
   "source": [
    "<font color = green >\n",
    "\n",
    "### Non-whitespace \\S\n",
    "\n",
    "</font>\n",
    "equivalent to [ \\t\\n\\r\\f\\v]"
   ]
  },
  {
   "cell_type": "code",
   "execution_count": 50,
   "metadata": {},
   "outputs": [
    {
     "name": "stdout",
     "output_type": "stream",
     "text": [
      "BMW 525, \n",
      "Hyundai i35,\tMercedes S-class\n",
      "['B', 'M', 'W', '5', '2', '5', ',', 'H', 'y', 'u', 'n', 'd', 'a', 'i', 'i', '3', '5', ',', 'M', 'e', 'r', 'c', 'e', 'd', 'e', 's', 'S', '-', 'c', 'l', 'a', 's', 's']\n"
     ]
    }
   ],
   "source": [
    "text_list = ['BMW 525',\n",
    "             '\\nHyundai i35',\n",
    "             '\\tMercedes S-class'\n",
    "            ]\n",
    "\n",
    "print (text)\n",
    "print (re.findall('\\S', text))"
   ]
  },
  {
   "cell_type": "markdown",
   "metadata": {},
   "source": [
    "<font color = green >\n",
    "\n",
    "### Repetitions\n",
    "\n",
    "</font>\n",
    "\n"
   ]
  },
  {
   "cell_type": "markdown",
   "metadata": {},
   "source": [
    "<font color = green >\n",
    "\n",
    "#### Repetition zero or more occurrences \n",
    "\n",
    "</font>\n",
    "\n",
    "meta char `*`"
   ]
  },
  {
   "cell_type": "code",
   "execution_count": 51,
   "metadata": {},
   "outputs": [
    {
     "name": "stdout",
     "output_type": "stream",
     "text": [
      "['\\n hundai i35', 'maybach', 'porsche']\n"
     ]
    }
   ],
   "source": [
    "text_list = ['bmw 525', '\\n hundai i35','\\tmercedes S-class', 'maybach', 'porsche']\n",
    "pat = 'h[\\w]*'\n",
    "print ([s for s in text_list if re.search(pat, s)])"
   ]
  },
  {
   "cell_type": "markdown",
   "metadata": {},
   "source": [
    "<font color = green >\n",
    "\n",
    "#### Repetion one or more occurrences \n",
    "\n",
    "</font>\n",
    "\n",
    "meta char `+`"
   ]
  },
  {
   "cell_type": "code",
   "execution_count": 52,
   "metadata": {},
   "outputs": [
    {
     "name": "stdout",
     "output_type": "stream",
     "text": [
      "['\\n hundai i35', 'porsche']\n"
     ]
    }
   ],
   "source": [
    "text_list = ['bmw 525', '\\n hundai i35','\\tmercedes S-class', 'maybach', 'porsche']\n",
    "pat = 'h[\\w]+'\n",
    "print ([s for s in text_list if re.search(pat, s)]) "
   ]
  },
  {
   "cell_type": "markdown",
   "metadata": {},
   "source": [
    "<font color = green >\n",
    "\n",
    "#### Repetition zero or one occurrence \n",
    "\n",
    "</font>\n",
    "\n",
    "meta char `?`"
   ]
  },
  {
   "cell_type": "code",
   "execution_count": 53,
   "metadata": {},
   "outputs": [
    {
     "name": "stdout",
     "output_type": "stream",
     "text": [
      "['hundai i35', 'maybach', 'porsche']\n"
     ]
    }
   ],
   "source": [
    "text_list = ['bmw 525', 'hundai i35', 'mercedes S-class', 'maybach', 'porsche']\n",
    "pat = 'h[\\w]?'\n",
    "print ([s for s in text_list if re.search(pat, s)]) \n"
   ]
  },
  {
   "cell_type": "markdown",
   "metadata": {},
   "source": [
    "Pattern `h[\\w]?` does return matched object for `hundai i35` \n",
    "<br>Thus, need to add `$` at the end to avoid partial text match"
   ]
  },
  {
   "cell_type": "code",
   "execution_count": 54,
   "metadata": {},
   "outputs": [
    {
     "name": "stdout",
     "output_type": "stream",
     "text": [
      "['maybach', 'porsche']\n"
     ]
    }
   ],
   "source": [
    "text_list = ['bmw 525', 'hundai i35', 'mercedes S-class', 'maybach', 'porsche']\n",
    "pat = 'h[\\w]?$'\n",
    "print ([s for s in text_list if re.search(pat, s)]) "
   ]
  },
  {
   "cell_type": "markdown",
   "metadata": {},
   "source": [
    "<font color = green >\n",
    "\n",
    "#### Repetition  exactly n times  (n>= 0)\n",
    "\n",
    "</font>\n",
    "\n",
    "`{n}`"
   ]
  },
  {
   "cell_type": "code",
   "execution_count": 55,
   "metadata": {},
   "outputs": [
    {
     "name": "stdout",
     "output_type": "stream",
     "text": [
      "['bmw 525', 'mercedes S-class', 'maybach']\n",
      "['bmw 525']\n",
      "['maybach']\n"
     ]
    }
   ],
   "source": [
    "text_list = ['bmw 525', 'hundai i35', 'mercedes S-class', 'maybach', 'porsche']\n",
    "print ([s for s in text_list if re.search('m[\\w -]+$', s)]) # at least once\n",
    "print ([s for s in text_list if re.search('m[\\w -]{5}$', s)]) # exacltly 5 occurrences \n",
    "print ([s for s in text_list if re.search('m[\\w -]{6}$', s)]) # exacltly 6 occurrences \n"
   ]
  },
  {
   "cell_type": "markdown",
   "metadata": {},
   "source": [
    "<font color = green >\n",
    "\n",
    "#### Repetition at least n times  (n>= 0)\n",
    "\n",
    "</font>\n",
    "\n",
    "`{n,}`"
   ]
  },
  {
   "cell_type": "code",
   "execution_count": 56,
   "metadata": {},
   "outputs": [
    {
     "name": "stdout",
     "output_type": "stream",
     "text": [
      "['mercedes S-class', 'maybach']\n"
     ]
    }
   ],
   "source": [
    "text_list = ['bmw 525', 'hundai i35', 'mercedes S-class', 'maybach', 'porsche']\n",
    "print ([s for s in text_list if re.search('m[\\w -]{6,}$', s)]) # at least 6 occurrences "
   ]
  },
  {
   "cell_type": "markdown",
   "metadata": {},
   "source": [
    "<font color = green >\n",
    "\n",
    "#### Repetition from n to m times  (n, m>= 0)\n",
    "\n",
    "</font>\n",
    "\n",
    "`{n,m}`\n",
    "<br>Note: m occurences is included"
   ]
  },
  {
   "cell_type": "code",
   "execution_count": 57,
   "metadata": {},
   "outputs": [
    {
     "name": "stdout",
     "output_type": "stream",
     "text": [
      "['bmw 525']\n"
     ]
    }
   ],
   "source": [
    "text_list = ['bmw 525', 'hundai i35', 'mercedes S-class', 'maybach', 'porsche']\n",
    "print ([s for s in text_list if re.search('m[\\w -]{4,5}$', s)]) # from 4 to 5 occurrences  "
   ]
  },
  {
   "cell_type": "markdown",
   "metadata": {},
   "source": [
    "<font color = green >\n",
    "\n",
    "#### Repetition at most m times  (m>= 0)  (including)\n",
    "\n",
    "</font>\n",
    "\n",
    "`{,m}`\n",
    "\n",
    "\n"
   ]
  },
  {
   "cell_type": "code",
   "execution_count": 58,
   "metadata": {},
   "outputs": [
    {
     "name": "stdout",
     "output_type": "stream",
     "text": [
      "['bmw 525', 'maybach']\n"
     ]
    }
   ],
   "source": [
    "text_list = ['bmw 525', 'hundai i35', 'mercedes S-class', 'maybach', 'porsche']\n",
    "print ([s for s in text_list if re.search('m[\\w -]{,6}$', s)]) # not more than 6 occurrences  "
   ]
  },
  {
   "cell_type": "markdown",
   "metadata": {},
   "source": [
    "<font color = green >\n",
    "\n",
    "### re.match\n",
    "\n",
    "</font>\n",
    "\n",
    "If zero or more characters at the beginning of string match the regular expression pattern, return a corresponding MatchObject instance. Return None if the string does not match the pattern.\n",
    "\n",
    "Note: `re.match()` checks for a match only at the beginning of the string, while `re.search()` checks for a match anywhere in the string."
   ]
  },
  {
   "cell_type": "code",
   "execution_count": 59,
   "metadata": {},
   "outputs": [
    {
     "name": "stdout",
     "output_type": "stream",
     "text": [
      "<re.Match object; span=(0, 7), match='Machine'>\n",
      "None\n"
     ]
    }
   ],
   "source": [
    "target = r'Machine learning'\n",
    "print (re.match('Machine', target)) # this does match some chars at the beginning \n",
    "print (re.match('Machine$', target)) # this does not match some chars at the beginning \n"
   ]
  },
  {
   "cell_type": "markdown",
   "metadata": {},
   "source": [
    "<font color = green >\n",
    "\n",
    "### Replace using re \n",
    "\n",
    "</font>\n",
    "\n",
    "`re.sub()`"
   ]
  },
  {
   "cell_type": "code",
   "execution_count": 60,
   "metadata": {},
   "outputs": [
    {
     "data": {
      "text/plain": [
       "'***xample ***tring'"
      ]
     },
     "execution_count": 60,
     "metadata": {},
     "output_type": "execute_result"
    }
   ],
   "source": [
    "text = \"Example String\"\n",
    "pat = '[ES]'\n",
    "re.sub(pat, '***', text)"
   ]
  },
  {
   "cell_type": "markdown",
   "metadata": {},
   "source": [
    "<font color = green >\n",
    "\n",
    "### Sample: Using regex for dates  \n",
    "\n",
    "</font>\n"
   ]
  },
  {
   "cell_type": "code",
   "execution_count": 983,
   "metadata": {},
   "outputs": [
    {
     "name": "stdout",
     "output_type": "stream",
     "text": [
      "23-10-2002\n",
      "23/10/2002\n",
      "23/10/02\n",
      "1/23/2002\n",
      "23 Oct 2002\n",
      "23 October 2002\n",
      "23 May 2002\n",
      "Oct 23, 2002\n",
      "October 23, 2002\n",
      "15-09-78\n",
      "15-09-some_year\n",
      "some_year-15-09\n",
      "15.09.78\n",
      "October 23 1990\n",
      "April 11, 1990\n",
      "April. 11, 1990  \n"
     ]
    }
   ],
   "source": [
    "dates_str= '23-10-2002\\n23/10/2002\\n23/10/02\\n1/23/2002\\n23 Oct 2002\\n23 October 2002\\n23 May 2002\\nOct 23, 2002' \\\n",
    "               '\\nOctober 23, 2002\\n15-09-78\\n15-09-some_year\\nsome_year-15-09\\n15.09.78\\nOctober 23 1990\\nApril 11, 1990\\nApril. 11, 1990  '\n",
    "print (dates_str)\n"
   ]
  },
  {
   "cell_type": "markdown",
   "metadata": {},
   "source": [
    "Let's start with simple pattern"
   ]
  },
  {
   "cell_type": "code",
   "execution_count": 62,
   "metadata": {},
   "outputs": [
    {
     "name": "stdout",
     "output_type": "stream",
     "text": [
      "['23-10-2002', '23/10/2002']\n"
     ]
    }
   ],
   "source": [
    "pat = '\\d{2}[-/]\\d{2}[-/]\\d{4}'\n",
    "print (re.findall(pat,dates_str))"
   ]
  },
  {
   "cell_type": "markdown",
   "metadata": {},
   "source": [
    "Consider cases of 1-digit for day and and 2-digits for year  "
   ]
  },
  {
   "cell_type": "code",
   "execution_count": 445,
   "metadata": {},
   "outputs": [
    {
     "name": "stdout",
     "output_type": "stream",
     "text": [
      "['23-10-2002', '23/10/2002', '23/10/02', '1/23/2002', '15-09-78']\n"
     ]
    }
   ],
   "source": [
    "pat = '\\d{1,2}[-/]\\d{2}[-/]\\d{2,4}'\n",
    "print (re.findall(pat,dates_str))"
   ]
  },
  {
   "cell_type": "markdown",
   "metadata": {},
   "source": [
    "Observe cases of `.` separator "
   ]
  },
  {
   "cell_type": "code",
   "execution_count": 446,
   "metadata": {},
   "outputs": [
    {
     "name": "stdout",
     "output_type": "stream",
     "text": [
      "['23-10-2002', '23/10/2002', '23/10/02', '1/23/2002', '15-09-78', '15.09.78']\n"
     ]
    }
   ],
   "source": [
    "pat = '\\d{1,2}[-/.]\\d{2}[-/.]\\d{2,4}'\n",
    "print (re.findall(pat,dates_str))"
   ]
  },
  {
   "cell_type": "markdown",
   "metadata": {},
   "source": [
    "Let's consider named months "
   ]
  },
  {
   "cell_type": "code",
   "execution_count": 447,
   "metadata": {},
   "outputs": [
    {
     "name": "stdout",
     "output_type": "stream",
     "text": [
      "['23 Oct 2002', '23 May 2002']\n"
     ]
    }
   ],
   "source": [
    "pat = '\\d{1,2} (?:Jan|Feb|Mar|Apr|May|Jun|Jul|Aug|Sep|Oct|Nov|Dec) \\d{2,4}'\n",
    "print (re.findall(pat,dates_str))"
   ]
  },
  {
   "cell_type": "markdown",
   "metadata": {},
   "source": [
    "Note: ( ) has meaning of selecting the specified scope - i.e. it matches the whole pattern but returns the only scope in brackets \n",
    "\n",
    "Here you may use (<font color= red size=4 >?:</font>Jan|Feb|Mar|Apr|May|Jun|Jul|Aug|Sep|Oct|Nov|Dec) to get whole matched string. "
   ]
  },
  {
   "cell_type": "code",
   "execution_count": 448,
   "metadata": {},
   "outputs": [
    {
     "name": "stdout",
     "output_type": "stream",
     "text": [
      "['23 Oct 2002', '23 May 2002']\n"
     ]
    }
   ],
   "source": [
    "pat = '\\d{1,2}[-/ ](?:Jan|Feb|Mar|Apr|May|Jun|Jul|Aug|Sep|Oct|Nov|Dec) \\d{2,4}'\n",
    "print (re.findall(pat,dates_str))"
   ]
  },
  {
   "cell_type": "markdown",
   "metadata": {},
   "source": [
    "Consider case of full name like October by allowsing any number of letters to be after shorten name of month"
   ]
  },
  {
   "cell_type": "code",
   "execution_count": 452,
   "metadata": {},
   "outputs": [
    {
     "name": "stdout",
     "output_type": "stream",
     "text": [
      "['23 Oct 2002', '23 October 2002', '23 May 2002']\n"
     ]
    }
   ],
   "source": [
    "pat = '\\d{1,2} (?:Jan|Feb|Mar|Apr|May|Jun|Jul|Aug|Sep|Oct|Nov|Dec)[a-z ]* \\d{2,4}'\n",
    "print (re.findall(pat,dates_str))"
   ]
  },
  {
   "cell_type": "markdown",
   "metadata": {},
   "source": [
    "Consider case of month at the beginning - this means the first 2 digits may be optional but they go after month name "
   ]
  },
  {
   "cell_type": "code",
   "execution_count": 984,
   "metadata": {},
   "outputs": [
    {
     "name": "stdout",
     "output_type": "stream",
     "text": [
      "['23 Oct 2002', '23 October 2002', '23 May 2002', 'Oct 23', 'October 23', 'October 23', 'April 11']\n"
     ]
    }
   ],
   "source": [
    "pat = '(?:\\d{1,2} )?(?:Jan|Feb|Mar|Apr|May|Jun|Jul|Aug|Sep|Oct|Nov|Dec)[a-z ]*(?:\\d{1,2} )? \\d{2,4}'\n",
    "print (re.findall(pat,dates_str))"
   ]
  },
  {
   "cell_type": "markdown",
   "metadata": {},
   "source": [
    "Consider separators for last two dates: `,`  "
   ]
  },
  {
   "cell_type": "code",
   "execution_count": 1128,
   "metadata": {},
   "outputs": [
    {
     "name": "stdout",
     "output_type": "stream",
     "text": [
      "['23 Oct 2002', '23 October 2002', '23 May 2002', 'Oct 23, 2002', 'October 23, 2002', 'October 23', 'April 11, 1990', 'April. 11, 1990']\n"
     ]
    }
   ],
   "source": [
    "pat = '(?:\\d{1,2} )?(?:Jan|Feb|Mar|Apr|May|Jun|Jul|Aug|Sep|Oct|Nov|Dec)[a-z .,/]*(?: \\d{1,2}[ ,])*(?:[ ,])? \\d{2,4}'\n",
    "print (re.findall(pat,dates_str))"
   ]
  },
  {
   "cell_type": "code",
   "execution_count": 1127,
   "metadata": {},
   "outputs": [
    {
     "name": "stdout",
     "output_type": "stream",
     "text": [
      "['October 23, 2002', 'October 23 1990', 'April 11, 1990', 'April. 11, 1990']\n"
     ]
    }
   ],
   "source": [
    "pat = '(?:\\d{1,2} )*(?:Jan|Feb|Mar|Apr|May|Jun|Jul|Aug|Sep|Oct|Nov|Dec)[a-z .,/]+(?: \\d{1,2}[ .,])+(?:[ ,])*\\d{2,4}'\n",
    "print (re.findall(pat,dates_str)) "
   ]
  },
  {
   "cell_type": "code",
   "execution_count": 987,
   "metadata": {},
   "outputs": [
    {
     "ename": "TypeError",
     "evalue": "object of type 'int' has no len()",
     "output_type": "error",
     "traceback": [
      "\u001b[1;31m---------------------------------------------------------------------------\u001b[0m",
      "\u001b[1;31mTypeError\u001b[0m                                 Traceback (most recent call last)",
      "\u001b[1;32m<ipython-input-987-ea4bde77b843>\u001b[0m in \u001b[0;36m<module>\u001b[1;34m\u001b[0m\n\u001b[1;32m----> 1\u001b[1;33m \u001b[0mlen\u001b[0m\u001b[1;33m(\u001b[0m\u001b[0mdf\u001b[0m\u001b[1;33m[\u001b[0m\u001b[1;34m\"b\"\u001b[0m\u001b[1;33m]\u001b[0m\u001b[1;33m[\u001b[0m\u001b[1;36m434\u001b[0m\u001b[1;33m]\u001b[0m\u001b[1;33m)\u001b[0m\u001b[1;33m\u001b[0m\u001b[1;33m\u001b[0m\u001b[0m\n\u001b[0m",
      "\u001b[1;31mTypeError\u001b[0m: object of type 'int' has no len()"
     ]
    }
   ],
   "source": [
    "len(df[\"b\"][434])"
   ]
  },
  {
   "cell_type": "markdown",
   "metadata": {},
   "source": [
    "<font color = green >\n",
    "\n",
    "## Using regex with pandas \n",
    "\n",
    "</font>\n"
   ]
  },
  {
   "cell_type": "code",
   "execution_count": 70,
   "metadata": {
    "scrolled": true
   },
   "outputs": [
    {
     "data": {
      "text/html": [
       "<div>\n",
       "<style scoped>\n",
       "    .dataframe tbody tr th:only-of-type {\n",
       "        vertical-align: middle;\n",
       "    }\n",
       "\n",
       "    .dataframe tbody tr th {\n",
       "        vertical-align: top;\n",
       "    }\n",
       "\n",
       "    .dataframe thead th {\n",
       "        text-align: right;\n",
       "    }\n",
       "</style>\n",
       "<table border=\"1\" class=\"dataframe\">\n",
       "  <thead>\n",
       "    <tr style=\"text-align: right;\">\n",
       "      <th></th>\n",
       "      <th>text</th>\n",
       "    </tr>\n",
       "  </thead>\n",
       "  <tbody>\n",
       "    <tr>\n",
       "      <th>0</th>\n",
       "      <td>Monday: The doctor's appointment is at 2:45pm.</td>\n",
       "    </tr>\n",
       "    <tr>\n",
       "      <th>1</th>\n",
       "      <td>Tuesday: The dentist's appointment is at 11:30 am.</td>\n",
       "    </tr>\n",
       "    <tr>\n",
       "      <th>2</th>\n",
       "      <td>Wednesday: At 7:00pm, there is a basketball game!</td>\n",
       "    </tr>\n",
       "    <tr>\n",
       "      <th>3</th>\n",
       "      <td>Thursday: Be back home by 11:15 pm at the latest.</td>\n",
       "    </tr>\n",
       "    <tr>\n",
       "      <th>4</th>\n",
       "      <td>Friday: Take the train at 08:10 am, arrive at 09:00am.</td>\n",
       "    </tr>\n",
       "    <tr>\n",
       "      <th>5</th>\n",
       "      <td>just custom sentence : Saturday</td>\n",
       "    </tr>\n",
       "  </tbody>\n",
       "</table>\n",
       "</div>"
      ],
      "text/plain": [
       "                                                     text\n",
       "0          Monday: The doctor's appointment is at 2:45pm.\n",
       "1      Tuesday: The dentist's appointment is at 11:30 am.\n",
       "2       Wednesday: At 7:00pm, there is a basketball game!\n",
       "3       Thursday: Be back home by 11:15 pm at the latest.\n",
       "4  Friday: Take the train at 08:10 am, arrive at 09:00am.\n",
       "5                         just custom sentence : Saturday"
      ]
     },
     "execution_count": 70,
     "metadata": {},
     "output_type": "execute_result"
    }
   ],
   "source": [
    "import pandas as pd\n",
    "pd.set_option('max_colwidth', 200)\n",
    "\n",
    "def init_df():\n",
    "    time_sentences = [\"Monday: The doctor's appointment is at 2:45pm.\",\n",
    "                  \"Tuesday: The dentist's appointment is at 11:30 am.\",\n",
    "                  \"Wednesday: At 7:00pm, there is a basketball game!\",\n",
    "                  \"Thursday: Be back home by 11:15 pm at the latest.\",\n",
    "                  \"Friday: Take the train at 08:10 am, arrive at 09:00am.\",\n",
    "                  \"just custom sentence : Saturday\"]\n",
    "    return pd.DataFrame(time_sentences, columns=['text']) \n",
    "df =  init_df()\n",
    "df"
   ]
  },
  {
   "cell_type": "markdown",
   "metadata": {},
   "source": [
    "<font color = green >\n",
    "\n",
    "### Using .str for pandas.Series\n",
    "\n",
    "</font>\n",
    "\n"
   ]
  },
  {
   "cell_type": "markdown",
   "metadata": {},
   "source": [
    "<font color = green >\n",
    "\n",
    "### Number of characters in every row\n",
    "\n",
    "</font>\n",
    "\n",
    "`str.len()`\n"
   ]
  },
  {
   "cell_type": "code",
   "execution_count": 71,
   "metadata": {},
   "outputs": [
    {
     "data": {
      "text/plain": [
       "0    46\n",
       "1    50\n",
       "2    49\n",
       "3    49\n",
       "4    54\n",
       "5    31\n",
       "Name: text, dtype: int64"
      ]
     },
     "execution_count": 71,
     "metadata": {},
     "output_type": "execute_result"
    }
   ],
   "source": [
    "df['text'].str.len()"
   ]
  },
  {
   "cell_type": "markdown",
   "metadata": {},
   "source": [
    "<font color = green >\n",
    "\n",
    "### Tokenize by \n",
    "\n",
    "</font>\n",
    "\n",
    "`str.split()`\n"
   ]
  },
  {
   "cell_type": "code",
   "execution_count": 72,
   "metadata": {},
   "outputs": [
    {
     "data": {
      "text/plain": [
       "0               [Monday:, The, doctor's, appointment, is, at, 2:45pm.]\n",
       "1          [Tuesday:, The, dentist's, appointment, is, at, 11:30, am.]\n",
       "2           [Wednesday:, At, 7:00pm,, there, is, a, basketball, game!]\n",
       "3         [Thursday:, Be, back, home, by, 11:15, pm, at, the, latest.]\n",
       "4    [Friday:, Take, the, train, at, 08:10, am,, arrive, at, 09:00am.]\n",
       "5                                [just, custom, sentence, :, Saturday]\n",
       "Name: text, dtype: object"
      ]
     },
     "execution_count": 72,
     "metadata": {},
     "output_type": "execute_result"
    }
   ],
   "source": [
    "df['text'].str.split()"
   ]
  },
  {
   "cell_type": "markdown",
   "metadata": {},
   "source": [
    "<font color = green >\n",
    "\n",
    "### Number of words in the row\n",
    "\n",
    "</font>\n",
    "\n",
    "`str.split().str.len()`\n"
   ]
  },
  {
   "cell_type": "code",
   "execution_count": 73,
   "metadata": {},
   "outputs": [
    {
     "data": {
      "text/plain": [
       "0     7\n",
       "1     8\n",
       "2     8\n",
       "3    10\n",
       "4    10\n",
       "5     5\n",
       "Name: text, dtype: int64"
      ]
     },
     "execution_count": 73,
     "metadata": {},
     "output_type": "execute_result"
    }
   ],
   "source": [
    "df['text'].str.split().str.len() \n",
    "\n"
   ]
  },
  {
   "cell_type": "markdown",
   "metadata": {},
   "source": [
    "<font color = green >\n",
    "\n",
    "### Count digits in the row\n",
    "\n",
    "</font>\n",
    "\n",
    "`str.count()`"
   ]
  },
  {
   "cell_type": "code",
   "execution_count": 74,
   "metadata": {},
   "outputs": [
    {
     "data": {
      "text/plain": [
       "0    3\n",
       "1    4\n",
       "2    3\n",
       "3    4\n",
       "4    8\n",
       "5    0\n",
       "Name: text, dtype: int64"
      ]
     },
     "execution_count": 74,
     "metadata": {},
     "output_type": "execute_result"
    }
   ],
   "source": [
    "df['text'].str.count('\\d') "
   ]
  },
  {
   "cell_type": "markdown",
   "metadata": {},
   "source": [
    "<font color = green >\n",
    "\n",
    "### Search for specified string\n",
    "\n",
    "</font>\n",
    "\n",
    "`str.contain()`"
   ]
  },
  {
   "cell_type": "code",
   "execution_count": 75,
   "metadata": {},
   "outputs": [
    {
     "data": {
      "text/plain": [
       "0     True\n",
       "1     True\n",
       "2    False\n",
       "3    False\n",
       "4    False\n",
       "5    False\n",
       "Name: text, dtype: bool"
      ]
     },
     "execution_count": 75,
     "metadata": {},
     "output_type": "execute_result"
    }
   ],
   "source": [
    "df['text'].str.contains('appointment')"
   ]
  },
  {
   "cell_type": "markdown",
   "metadata": {},
   "source": [
    "<font color = green >\n",
    "\n",
    "### Find all digits in the row\n",
    "\n",
    "</font>\n",
    "\n",
    "`str.findall()`"
   ]
  },
  {
   "cell_type": "code",
   "execution_count": 76,
   "metadata": {},
   "outputs": [
    {
     "name": "stdout",
     "output_type": "stream",
     "text": [
      "0                   [2, 4, 5]\n",
      "1                [1, 1, 3, 0]\n",
      "2                   [7, 0, 0]\n",
      "3                [1, 1, 1, 5]\n",
      "4    [0, 8, 1, 0, 0, 9, 0, 0]\n",
      "5                          []\n",
      "Name: text, dtype: object\n"
     ]
    }
   ],
   "source": [
    "print (df['text'].str.findall('\\d')) # returns the series of lists with digits"
   ]
  },
  {
   "cell_type": "markdown",
   "metadata": {},
   "source": [
    "<font color = green >\n",
    "\n",
    "### Capture groups\n",
    "\n",
    "</font>\n"
   ]
  },
  {
   "cell_type": "code",
   "execution_count": 77,
   "metadata": {},
   "outputs": [
    {
     "data": {
      "text/plain": [
       "0               [(2, 45)]\n",
       "1              [(11, 30)]\n",
       "2               [(7, 00)]\n",
       "3              [(11, 15)]\n",
       "4    [(08, 10), (09, 00)]\n",
       "5                      []\n",
       "Name: text, dtype: object"
      ]
     },
     "execution_count": 77,
     "metadata": {},
     "output_type": "execute_result"
    }
   ],
   "source": [
    "pat = '(\\d?\\d):(\\d\\d)'\n",
    "df['text'].str.findall(pat)# returns every pair like (08, 10), (09, 00)"
   ]
  },
  {
   "cell_type": "code",
   "execution_count": 78,
   "metadata": {},
   "outputs": [
    {
     "data": {
      "text/plain": [
       "0            [2:45]\n",
       "1           [11:30]\n",
       "2            [7:00]\n",
       "3           [11:15]\n",
       "4    [08:10, 09:00]\n",
       "5                []\n",
       "Name: text, dtype: object"
      ]
     },
     "execution_count": 78,
     "metadata": {},
     "output_type": "execute_result"
    }
   ],
   "source": [
    "# Comparing to no-group capturing:\n",
    "pat = '(?:\\d?\\d):(?:\\d\\d)'\n",
    "df['text'].str.findall(pat) # .iloc[-2]"
   ]
  },
  {
   "cell_type": "markdown",
   "metadata": {},
   "source": [
    "<font color = green >\n",
    "\n",
    "### Replace\n",
    "\n",
    "</font>\n",
    "\n",
    "`str.replase()`"
   ]
  },
  {
   "cell_type": "code",
   "execution_count": 79,
   "metadata": {},
   "outputs": [
    {
     "data": {
      "text/plain": [
       "0            xxxxx: The doctor's appointment is at 2:45pm.\n",
       "1         xxxxx: The dentist's appointment is at 11:30 am.\n",
       "2            xxxxx: At 7:00pm, there is a basketball game!\n",
       "3           xxxxx: Be back home by 11:15 pm at the latest.\n",
       "4    xxxxx: Take the train at 08:10 am, arrive at 09:00am.\n",
       "5                             just custom sentence : xxxxx\n",
       "Name: text, dtype: object"
      ]
     },
     "execution_count": 79,
     "metadata": {},
     "output_type": "execute_result"
    }
   ],
   "source": [
    "df['text'].str.replace(r'\\w*day\\b', 'xxxxx') \n",
    "# Note: pattern is used with r (raw string literal) prefix to avoid reserved string special characters\n",
    "# here \\b is reserved the backspace character so you need to use either  r'\\w+day\\b' or '\\w+day\\\\b' \n"
   ]
  },
  {
   "cell_type": "code",
   "execution_count": 80,
   "metadata": {},
   "outputs": [
    {
     "data": {
      "text/plain": [
       "0            xxxxx: The doctor's appointment is at 2:45pm.\n",
       "1         xxxxx: The dentist's appointment is at 11:30 am.\n",
       "2            xxxxx: At 7:00pm, there is a basketball game!\n",
       "3           xxxxx: Be back home by 11:15 pm at the latest.\n",
       "4    xxxxx: Take the train at 08:10 am, arrive at 09:00am.\n",
       "5                             just custom sentence : xxxxx\n",
       "Name: text, dtype: object"
      ]
     },
     "execution_count": 80,
     "metadata": {},
     "output_type": "execute_result"
    }
   ],
   "source": [
    "# comparing to case w/o /b\n",
    "df ['text'].str.replace(r'\\w*day', 'xxxxx') "
   ]
  },
  {
   "cell_type": "markdown",
   "metadata": {},
   "source": [
    "<font color = green >\n",
    "\n",
    "#### Replace with dynamic value \n",
    "\n",
    "</font>\n",
    "\n"
   ]
  },
  {
   "cell_type": "code",
   "execution_count": 81,
   "metadata": {},
   "outputs": [],
   "source": [
    "# df = init_df()\n",
    "# df = df.append(pd.Series ({'text':'Monday Monday Monday Tuesday Wednesday and Friday '}), ignore_index=True)\n",
    "# df"
   ]
  },
  {
   "cell_type": "code",
   "execution_count": 82,
   "metadata": {},
   "outputs": [
    {
     "name": "stdout",
     "output_type": "stream",
     "text": [
      "0            Mon: The doctor's appointment is at 2:45pm.\n",
      "1         Tue: The dentist's appointment is at 11:30 am.\n",
      "2            Wed: At 7:00pm, there is a basketball game!\n",
      "3           Thu: Be back home by 11:15 pm at the latest.\n",
      "4    Fri: Take the train at 08:10 am, arrive at 09:00am.\n",
      "5                             just custom sentence : Sat\n",
      "Name: text, dtype: object\n"
     ]
    }
   ],
   "source": [
    "# def investigate_x(x):\n",
    "#     ''' investiogate the matched object '''\n",
    "#     print (x.groups())\n",
    "#     return x.groups()[0][:3]\n",
    "# print (df['text'].str.replace(r'(\\w+day\\b)', investigate_x))\n",
    "\n",
    "\n",
    "print (df['text'].str.replace(r'(\\w+day\\b)', lambda x: x.groups()[0][:3]))  \n",
    "# Note: the pattern returns group noy just r'\\w+day\\b'\n",
    "# This sample generates just one group per mathed string - thus it pulls out the groups()[0]\n"
   ]
  },
  {
   "cell_type": "code",
   "execution_count": 83,
   "metadata": {},
   "outputs": [
    {
     "data": {
      "text/plain": [
       "0               Monday: The doctor's appointment is at 165 mins pm.\n",
       "1            Tuesday: The dentist's appointment is at 690 mins  am.\n",
       "2            Wednesday: At 420 mins pm, there is a basketball game!\n",
       "3             Thursday: Be back home by 675 mins  pm at the latest.\n",
       "4    Friday: Take the train at 490 mins  am, arrive at 540 mins am.\n",
       "5                                   just custom sentence : Saturday\n",
       "Name: text, dtype: object"
      ]
     },
     "execution_count": 83,
     "metadata": {},
     "output_type": "execute_result"
    }
   ],
   "source": [
    "# Sample of two groups: replace HH:MM time with amount of minutes \n",
    "df['text'].str.replace(r'(\\d?\\d):(\\d\\d)', lambda x: '{} mins '.format(int(x.groups()[0])*60+ int(x.groups()[1]))) \n",
    "# at 2:45pm. -> at 4pm. # 2 - is the first group, 45 is second group\n"
   ]
  },
  {
   "cell_type": "markdown",
   "metadata": {},
   "source": [
    "<font color = green >\n",
    "\n",
    "### Create columms with extracted groups\n",
    "\n",
    "</font>\n",
    "\n",
    "`str.extract()`\n",
    "\n",
    "<br>\n",
    "Note: It create new columns and uses **first match of extracted groups** only "
   ]
  },
  {
   "cell_type": "code",
   "execution_count": null,
   "metadata": {},
   "outputs": [],
   "source": []
  },
  {
   "cell_type": "code",
   "execution_count": 84,
   "metadata": {},
   "outputs": [
    {
     "data": {
      "text/html": [
       "<div>\n",
       "<style scoped>\n",
       "    .dataframe tbody tr th:only-of-type {\n",
       "        vertical-align: middle;\n",
       "    }\n",
       "\n",
       "    .dataframe tbody tr th {\n",
       "        vertical-align: top;\n",
       "    }\n",
       "\n",
       "    .dataframe thead th {\n",
       "        text-align: right;\n",
       "    }\n",
       "</style>\n",
       "<table border=\"1\" class=\"dataframe\">\n",
       "  <thead>\n",
       "    <tr style=\"text-align: right;\">\n",
       "      <th></th>\n",
       "      <th>0</th>\n",
       "      <th>1</th>\n",
       "    </tr>\n",
       "  </thead>\n",
       "  <tbody>\n",
       "    <tr>\n",
       "      <th>0</th>\n",
       "      <td>2</td>\n",
       "      <td>45</td>\n",
       "    </tr>\n",
       "    <tr>\n",
       "      <th>1</th>\n",
       "      <td>11</td>\n",
       "      <td>30</td>\n",
       "    </tr>\n",
       "    <tr>\n",
       "      <th>2</th>\n",
       "      <td>7</td>\n",
       "      <td>00</td>\n",
       "    </tr>\n",
       "    <tr>\n",
       "      <th>3</th>\n",
       "      <td>11</td>\n",
       "      <td>15</td>\n",
       "    </tr>\n",
       "    <tr>\n",
       "      <th>4</th>\n",
       "      <td>08</td>\n",
       "      <td>10</td>\n",
       "    </tr>\n",
       "    <tr>\n",
       "      <th>5</th>\n",
       "      <td>NaN</td>\n",
       "      <td>NaN</td>\n",
       "    </tr>\n",
       "  </tbody>\n",
       "</table>\n",
       "</div>"
      ],
      "text/plain": [
       "     0    1\n",
       "0    2   45\n",
       "1   11   30\n",
       "2    7   00\n",
       "3   11   15\n",
       "4   08   10\n",
       "5  NaN  NaN"
      ]
     },
     "execution_count": 84,
     "metadata": {},
     "output_type": "execute_result"
    }
   ],
   "source": [
    "df['text'].str.extract(r'(\\d?\\d):(\\d\\d)')\n",
    "# comparing with findall : findall returns list of all mathces in one column  \n",
    "# but extract returns several columns (one per group)\n",
    "# Note: Only the 08:00 (not 09:00) is extracted from Fri: Take the train at 08:10 am, arrive at 09:00am.\n",
    "# Use str.extractall() to extract all mathced strings - see below "
   ]
  },
  {
   "cell_type": "markdown",
   "metadata": {},
   "source": [
    "<font color = green >\n",
    "\n",
    "### Extract all groups matches  \n",
    "\n",
    "</font>\n",
    "\n",
    "`str.extractall()`\n"
   ]
  },
  {
   "cell_type": "code",
   "execution_count": 85,
   "metadata": {},
   "outputs": [
    {
     "data": {
      "text/html": [
       "<div>\n",
       "<style scoped>\n",
       "    .dataframe tbody tr th:only-of-type {\n",
       "        vertical-align: middle;\n",
       "    }\n",
       "\n",
       "    .dataframe tbody tr th {\n",
       "        vertical-align: top;\n",
       "    }\n",
       "\n",
       "    .dataframe thead th {\n",
       "        text-align: right;\n",
       "    }\n",
       "</style>\n",
       "<table border=\"1\" class=\"dataframe\">\n",
       "  <thead>\n",
       "    <tr style=\"text-align: right;\">\n",
       "      <th></th>\n",
       "      <th></th>\n",
       "      <th>0</th>\n",
       "      <th>1</th>\n",
       "      <th>2</th>\n",
       "    </tr>\n",
       "    <tr>\n",
       "      <th></th>\n",
       "      <th>match</th>\n",
       "      <th></th>\n",
       "      <th></th>\n",
       "      <th></th>\n",
       "    </tr>\n",
       "  </thead>\n",
       "  <tbody>\n",
       "    <tr>\n",
       "      <th>0</th>\n",
       "      <th>0</th>\n",
       "      <td>2</td>\n",
       "      <td>45</td>\n",
       "      <td>pm</td>\n",
       "    </tr>\n",
       "    <tr>\n",
       "      <th>1</th>\n",
       "      <th>0</th>\n",
       "      <td>11</td>\n",
       "      <td>30</td>\n",
       "      <td>am</td>\n",
       "    </tr>\n",
       "    <tr>\n",
       "      <th>2</th>\n",
       "      <th>0</th>\n",
       "      <td>7</td>\n",
       "      <td>00</td>\n",
       "      <td>pm</td>\n",
       "    </tr>\n",
       "    <tr>\n",
       "      <th>3</th>\n",
       "      <th>0</th>\n",
       "      <td>11</td>\n",
       "      <td>15</td>\n",
       "      <td>pm</td>\n",
       "    </tr>\n",
       "    <tr>\n",
       "      <th rowspan=\"2\" valign=\"top\">4</th>\n",
       "      <th>0</th>\n",
       "      <td>08</td>\n",
       "      <td>10</td>\n",
       "      <td>am</td>\n",
       "    </tr>\n",
       "    <tr>\n",
       "      <th>1</th>\n",
       "      <td>09</td>\n",
       "      <td>00</td>\n",
       "      <td>am</td>\n",
       "    </tr>\n",
       "  </tbody>\n",
       "</table>\n",
       "</div>"
      ],
      "text/plain": [
       "          0   1   2\n",
       "  match            \n",
       "0 0       2  45  pm\n",
       "1 0      11  30  am\n",
       "2 0       7  00  pm\n",
       "3 0      11  15  pm\n",
       "4 0      08  10  am\n",
       "  1      09  00  am"
      ]
     },
     "execution_count": 85,
     "metadata": {},
     "output_type": "execute_result"
    }
   ],
   "source": [
    "df['text'].str.extractall(r'(\\d?\\d):(\\d\\d) ?([ap]m)')\n",
    "# Three groups. Some of the cases hase space between digits and am/pm\n",
    "# Note the index is number of original row and number of matched object "
   ]
  },
  {
   "cell_type": "markdown",
   "metadata": {},
   "source": [
    "<font color = green >\n",
    "\n",
    "### Named groups\n",
    "\n",
    "</font>\n",
    "\n",
    "(?P< name >)\n"
   ]
  },
  {
   "cell_type": "code",
   "execution_count": 86,
   "metadata": {},
   "outputs": [
    {
     "data": {
      "text/html": [
       "<div>\n",
       "<style scoped>\n",
       "    .dataframe tbody tr th:only-of-type {\n",
       "        vertical-align: middle;\n",
       "    }\n",
       "\n",
       "    .dataframe tbody tr th {\n",
       "        vertical-align: top;\n",
       "    }\n",
       "\n",
       "    .dataframe thead th {\n",
       "        text-align: right;\n",
       "    }\n",
       "</style>\n",
       "<table border=\"1\" class=\"dataframe\">\n",
       "  <thead>\n",
       "    <tr style=\"text-align: right;\">\n",
       "      <th></th>\n",
       "      <th></th>\n",
       "      <th>time</th>\n",
       "      <th>hour</th>\n",
       "      <th>minute</th>\n",
       "      <th>period</th>\n",
       "    </tr>\n",
       "    <tr>\n",
       "      <th></th>\n",
       "      <th>match</th>\n",
       "      <th></th>\n",
       "      <th></th>\n",
       "      <th></th>\n",
       "      <th></th>\n",
       "    </tr>\n",
       "  </thead>\n",
       "  <tbody>\n",
       "    <tr>\n",
       "      <th>0</th>\n",
       "      <th>0</th>\n",
       "      <td>2:45pm</td>\n",
       "      <td>2</td>\n",
       "      <td>45</td>\n",
       "      <td>pm</td>\n",
       "    </tr>\n",
       "    <tr>\n",
       "      <th>1</th>\n",
       "      <th>0</th>\n",
       "      <td>11:30 am</td>\n",
       "      <td>11</td>\n",
       "      <td>30</td>\n",
       "      <td>am</td>\n",
       "    </tr>\n",
       "    <tr>\n",
       "      <th>2</th>\n",
       "      <th>0</th>\n",
       "      <td>7:00pm</td>\n",
       "      <td>7</td>\n",
       "      <td>00</td>\n",
       "      <td>pm</td>\n",
       "    </tr>\n",
       "    <tr>\n",
       "      <th>3</th>\n",
       "      <th>0</th>\n",
       "      <td>11:15 pm</td>\n",
       "      <td>11</td>\n",
       "      <td>15</td>\n",
       "      <td>pm</td>\n",
       "    </tr>\n",
       "    <tr>\n",
       "      <th rowspan=\"2\" valign=\"top\">4</th>\n",
       "      <th>0</th>\n",
       "      <td>08:10 am</td>\n",
       "      <td>08</td>\n",
       "      <td>10</td>\n",
       "      <td>am</td>\n",
       "    </tr>\n",
       "    <tr>\n",
       "      <th>1</th>\n",
       "      <td>09:00am</td>\n",
       "      <td>09</td>\n",
       "      <td>00</td>\n",
       "      <td>am</td>\n",
       "    </tr>\n",
       "  </tbody>\n",
       "</table>\n",
       "</div>"
      ],
      "text/plain": [
       "             time hour minute period\n",
       "  match                             \n",
       "0 0        2:45pm    2     45     pm\n",
       "1 0      11:30 am   11     30     am\n",
       "2 0        7:00pm    7     00     pm\n",
       "3 0      11:15 pm   11     15     pm\n",
       "4 0      08:10 am   08     10     am\n",
       "  1       09:00am   09     00     am"
      ]
     },
     "execution_count": 86,
     "metadata": {},
     "output_type": "execute_result"
    }
   ],
   "source": [
    "df['text'].str.extractall(r'(?P<time>(?P<hour>\\d?\\d):(?P<minute>\\d\\d) ?(?P<period>[ap]m))')"
   ]
  },
  {
   "cell_type": "code",
   "execution_count": 87,
   "metadata": {},
   "outputs": [
    {
     "data": {
      "text/html": [
       "<div>\n",
       "<style scoped>\n",
       "    .dataframe tbody tr th:only-of-type {\n",
       "        vertical-align: middle;\n",
       "    }\n",
       "\n",
       "    .dataframe tbody tr th {\n",
       "        vertical-align: top;\n",
       "    }\n",
       "\n",
       "    .dataframe thead th {\n",
       "        text-align: right;\n",
       "    }\n",
       "</style>\n",
       "<table border=\"1\" class=\"dataframe\">\n",
       "  <thead>\n",
       "    <tr style=\"text-align: right;\">\n",
       "      <th></th>\n",
       "      <th>hour</th>\n",
       "      <th>minute</th>\n",
       "      <th>period</th>\n",
       "    </tr>\n",
       "  </thead>\n",
       "  <tbody>\n",
       "    <tr>\n",
       "      <th>0</th>\n",
       "      <td>2</td>\n",
       "      <td>45</td>\n",
       "      <td>pm</td>\n",
       "    </tr>\n",
       "    <tr>\n",
       "      <th>1</th>\n",
       "      <td>11</td>\n",
       "      <td>30</td>\n",
       "      <td>am</td>\n",
       "    </tr>\n",
       "    <tr>\n",
       "      <th>2</th>\n",
       "      <td>7</td>\n",
       "      <td>00</td>\n",
       "      <td>pm</td>\n",
       "    </tr>\n",
       "    <tr>\n",
       "      <th>3</th>\n",
       "      <td>11</td>\n",
       "      <td>15</td>\n",
       "      <td>pm</td>\n",
       "    </tr>\n",
       "    <tr>\n",
       "      <th>4</th>\n",
       "      <td>08</td>\n",
       "      <td>10</td>\n",
       "      <td>am</td>\n",
       "    </tr>\n",
       "    <tr>\n",
       "      <th>5</th>\n",
       "      <td>09</td>\n",
       "      <td>00</td>\n",
       "      <td>am</td>\n",
       "    </tr>\n",
       "  </tbody>\n",
       "</table>\n",
       "</div>"
      ],
      "text/plain": [
       "  hour minute period\n",
       "0    2     45     pm\n",
       "1   11     30     am\n",
       "2    7     00     pm\n",
       "3   11     15     pm\n",
       "4   08     10     am\n",
       "5   09     00     am"
      ]
     },
     "execution_count": 87,
     "metadata": {},
     "output_type": "execute_result"
    }
   ],
   "source": [
    "# w/o the whole matched string column \n",
    "df['text'].str.extractall(r'(?P<hour>\\d?\\d):(?P<minute>\\d\\d) ?(?P<period>[ap]m)').reset_index(drop=True)"
   ]
  },
  {
   "cell_type": "markdown",
   "metadata": {},
   "source": [
    "<font color = green >\n",
    "\n",
    "### Positive lookahead \n",
    "\n",
    "</font>\n",
    "\n",
    "`(?=...)`\n"
   ]
  },
  {
   "cell_type": "code",
   "execution_count": 88,
   "metadata": {},
   "outputs": [
    {
     "name": "stdout",
     "output_type": "stream",
     "text": [
      "['Isaac', 'Isaac', 'Isaac']\n"
     ]
    },
    {
     "data": {
      "text/plain": [
       "['Isaac ']"
      ]
     },
     "execution_count": 88,
     "metadata": {},
     "output_type": "execute_result"
    }
   ],
   "source": [
    "text = 'Isaac Asimov Isaac.Asimov Isaac_Asimov'\n",
    "print (re.findall(r'Isaac', text))\n",
    "pat = r'Isaac (?=Asimov)'\n",
    "re.findall(pat, text)"
   ]
  },
  {
   "cell_type": "markdown",
   "metadata": {},
   "source": [
    "<font color = green >\n",
    "\n",
    "### Negative lookahead \n",
    "\n",
    "</font>\n",
    "\n",
    "(?!...)\n"
   ]
  },
  {
   "cell_type": "code",
   "execution_count": 89,
   "metadata": {},
   "outputs": [
    {
     "data": {
      "text/plain": [
       "['Isaac']"
      ]
     },
     "execution_count": 89,
     "metadata": {},
     "output_type": "execute_result"
    }
   ],
   "source": [
    "text = 'Isaac Asimov Isaac.Asimov Isaac_Asimov'\n",
    "pat = r'Isaac(?![ .])' # any following string but neither space nor dot  \n",
    "re.findall(pat, text)"
   ]
  },
  {
   "cell_type": "code",
   "execution_count": null,
   "metadata": {},
   "outputs": [],
   "source": []
  },
  {
   "cell_type": "code",
   "execution_count": 90,
   "metadata": {},
   "outputs": [],
   "source": [
    "# Regular Expression Analyzer\n",
    "# http://xenon.stanford.edu/~xusch/regexp/"
   ]
  },
  {
   "cell_type": "code",
   "execution_count": null,
   "metadata": {},
   "outputs": [],
   "source": []
  },
  {
   "cell_type": "markdown",
   "metadata": {},
   "source": [
    "<font color = green >\n",
    "\n",
    "## Home Task \n",
    "\n",
    "</font>\n"
   ]
  },
  {
   "cell_type": "markdown",
   "metadata": {},
   "source": [
    "The Task is to extract relevant infromation from the messy medical data using regex.\n",
    "\n",
    "Each line of the `dates.txt` file corresponds to a medical note. Each note has a date that needs to be extracted, but each date is encoded in one of many formats.\n",
    "\n",
    "The goal is to correctly identify all of the different date variants encoded in this dataset and to properly normalize and sort the dates. \n",
    "\n",
    "1) Extract the date strings\n",
    "Here is a list of some of the variants you might encounter in this dataset:\n",
    "* 04/20/2009; 04/20/09; 4/20/09; 4/3/09\n",
    "* Mar-20-2009; Mar 20, 2009; March 20, 2009;  Mar. 20, 2009; Mar 20 2009;\n",
    "* 20 Mar 2009; 20 March 2009; 20 Mar. 2009; 20 March, 2009\n",
    "* Mar 20th, 2009; Mar 21st, 2009; Mar 22nd, 2009\n",
    "* Feb 2009; Sep 2009; Oct 2010\n",
    "* 6/2008; 12/2009\n",
    "* 2009; 2010\n",
    "\n",
    "2) Normalize the extracted dates considering the following rules:  \n",
    "* Assume all dates in xx/xx/xx format are mm/dd/yy\n",
    "* Assume all dates where year is encoded in only two digits are years from the 1900's (e.g. 1/5/89 is January 5th, 1989)\n",
    "* If the day is missing (e.g. 9/2009), assume it is the first day of the month (e.g. September 1, 2009).\n",
    "* If the month is missing (e.g. 2010), assume it is the first of January of that year (e.g. January 1, 2010).\n",
    "\n",
    "3) Sort records in ascending chronological order accoring.\n",
    "\n",
    "\n"
   ]
  },
  {
   "cell_type": "code",
   "execution_count": 1203,
   "metadata": {},
   "outputs": [],
   "source": [
    "import os\n",
    "import numpy as np\n",
    "cwd= os.getcwd() # current working directory\n",
    "path = os.path.join(cwd,'data')\n",
    "fn=  os.path.join(path , 'dates.txt')\n"
   ]
  },
  {
   "cell_type": "code",
   "execution_count": 1204,
   "metadata": {
    "scrolled": false
   },
   "outputs": [],
   "source": [
    "with open(fn, 'r') as f:\n",
    "    lines = [x.strip() for x in f.readlines()]\n",
    "import re\n",
    "import pandas as pd\n",
    "df = pd.DataFrame({'col':lines})"
   ]
  },
  {
   "cell_type": "code",
   "execution_count": 1205,
   "metadata": {},
   "outputs": [
    {
     "name": "stderr",
     "output_type": "stream",
     "text": [
      "C:\\ProgramData\\Anaconda3\\lib\\site-packages\\ipykernel_launcher.py:7: SettingWithCopyWarning: \n",
      "A value is trying to be set on a copy of a slice from a DataFrame\n",
      "\n",
      "See the caveats in the documentation: http://pandas.pydata.org/pandas-docs/stable/indexing.html#indexing-view-versus-copy\n",
      "  import sys\n"
     ]
    }
   ],
   "source": [
    "df[\"b\"]=0\n",
    "pat = '\\d{1,2}[-/]\\d{1,2}[-/]\\d{2,4}'\n",
    "for index, row in df.iterrows():\n",
    "    if len(re.findall(pat,df[\"col\"][index]))>0:\n",
    "        t=np.array((''.join(re.search(pat,df[\"col\"][index]).group(0))).split(\" \"))\n",
    "        y=\"{}\".format(t[0])\n",
    "        df[\"b\"][index]=y\n",
    "        "
   ]
  },
  {
   "cell_type": "code",
   "execution_count": 1206,
   "metadata": {},
   "outputs": [
    {
     "data": {
      "text/html": [
       "<div>\n",
       "<style scoped>\n",
       "    .dataframe tbody tr th:only-of-type {\n",
       "        vertical-align: middle;\n",
       "    }\n",
       "\n",
       "    .dataframe tbody tr th {\n",
       "        vertical-align: top;\n",
       "    }\n",
       "\n",
       "    .dataframe thead th {\n",
       "        text-align: right;\n",
       "    }\n",
       "</style>\n",
       "<table border=\"1\" class=\"dataframe\">\n",
       "  <thead>\n",
       "    <tr style=\"text-align: right;\">\n",
       "      <th></th>\n",
       "      <th>col</th>\n",
       "      <th>b</th>\n",
       "    </tr>\n",
       "  </thead>\n",
       "  <tbody>\n",
       "    <tr>\n",
       "      <th>194</th>\n",
       "      <td>April 11, 1990 CPT Code: 90791: No medical services</td>\n",
       "      <td>0</td>\n",
       "    </tr>\n",
       "    <tr>\n",
       "      <th>195</th>\n",
       "      <td>MRI May 30, 2001 empty sella but no problems with endocrine functionPertinent Medical Review of Systems Constitutional:</td>\n",
       "      <td>0</td>\n",
       "    </tr>\n",
       "  </tbody>\n",
       "</table>\n",
       "</div>"
      ],
      "text/plain": [
       "                                                                                                                         col  \\\n",
       "194                                                                      April 11, 1990 CPT Code: 90791: No medical services   \n",
       "195  MRI May 30, 2001 empty sella but no problems with endocrine functionPertinent Medical Review of Systems Constitutional:   \n",
       "\n",
       "     b  \n",
       "194  0  \n",
       "195  0  "
      ]
     },
     "execution_count": 1206,
     "metadata": {},
     "output_type": "execute_result"
    }
   ],
   "source": [
    "df[194:196]"
   ]
  },
  {
   "cell_type": "code",
   "execution_count": 1207,
   "metadata": {},
   "outputs": [
    {
     "name": "stdout",
     "output_type": "stream",
     "text": [
      "May/01/2016\n"
     ]
    }
   ],
   "source": [
    "pat = '(?:\\d{1,2} )?(?:Jan|Feb|Mar|Apr|May|Jun|Jul|Aug|Sep|Oct|Nov|Dec)[a-z .,/]*(?: \\d{1,2})*[. ,]* \\d{2,4}'\n",
    "pat2 = '(?:\\d{1,2} )*(?:Jan|Feb|Mar|Apr|May|Jun|Jul|Aug|Sep|Oct|Nov|Dec)[a-z .,/]*(?: \\d{1,2}[ ,])*(?:[ ,])* \\d{4}'\n",
    "for index, row in df.iterrows():\n",
    "    y=\"\"\n",
    "    if len(re.findall(pat,df[\"col\"][index]))>0:\n",
    "#         if len(re.findall(pat,df[\"col\"][index]))>0:\n",
    "#             y=\"{}/{}\".format(y,y.join(re.findall(pat,df[\"col\"][index])))\n",
    "        t=np.array((''.join(re.search(pat,df[\"col\"][index]).group(0))).split(\" \"))\n",
    "        if t.shape[0]>3:\n",
    "            t=np.array((''.join(re.search(pat2,df[\"col\"][index]).group(0))).split(\" \"))\n",
    "        for i in range(t.shape[0]):\n",
    "            if t[i].isdigit()==False:\n",
    "                t[i]=t[i][:3]\n",
    "        if t.shape[0]==3:\n",
    "            for i in range(t.shape[0]):\n",
    "                y=\"{} {}\".format(y,t[i])\n",
    "        if t.shape[0]==2:\n",
    "            y=\"{}/01/{}\".format(t[0],t[1])\n",
    "        if t.shape[0]==1:\n",
    "            y=\"1/01/{}\".format(t[0])\n",
    "        df[\"b\"][index]=y\n",
    "        if index ==231:\n",
    "             print(y)\n",
    "        y=\"\""
   ]
  },
  {
   "cell_type": "code",
   "execution_count": 1208,
   "metadata": {},
   "outputs": [
    {
     "data": {
      "text/plain": [
       "array(['October', '23', '1990'], dtype='<U7')"
      ]
     },
     "execution_count": 1208,
     "metadata": {},
     "output_type": "execute_result"
    }
   ],
   "source": [
    "pat = '(?:\\d{1,2} )?(?:Jan|Feb|Mar|Apr|May|Jun|Jul|Aug|Sep|Oct|Nov|Dec)[a-z .,/]*(?: \\d{1,2})*[. ,]* \\d{2,4}'\n",
    "t=np.array((''.join(re.search(pat,\"Ends October 23 1990 Current leg\").group(0))).split(\" \"))\n",
    "t"
   ]
  },
  {
   "cell_type": "code",
   "execution_count": null,
   "metadata": {},
   "outputs": [],
   "source": []
  },
  {
   "cell_type": "code",
   "execution_count": 1209,
   "metadata": {},
   "outputs": [
    {
     "data": {
      "text/html": [
       "<div>\n",
       "<style scoped>\n",
       "    .dataframe tbody tr th:only-of-type {\n",
       "        vertical-align: middle;\n",
       "    }\n",
       "\n",
       "    .dataframe tbody tr th {\n",
       "        vertical-align: top;\n",
       "    }\n",
       "\n",
       "    .dataframe thead th {\n",
       "        text-align: right;\n",
       "    }\n",
       "</style>\n",
       "<table border=\"1\" class=\"dataframe\">\n",
       "  <thead>\n",
       "    <tr style=\"text-align: right;\">\n",
       "      <th></th>\n",
       "      <th>col</th>\n",
       "      <th>b</th>\n",
       "    </tr>\n",
       "  </thead>\n",
       "  <tbody>\n",
       "    <tr>\n",
       "      <th>193</th>\n",
       "      <td>s 22 year old single Caucasian/Latino woman, unemployed Cook recent college graduate, living along with pet rabbit, with long history of depression with SA but never hospitalized, as well as obesi...</td>\n",
       "      <td>18 Jan 1995</td>\n",
       "    </tr>\n",
       "    <tr>\n",
       "      <th>194</th>\n",
       "      <td>April 11, 1990 CPT Code: 90791: No medical services</td>\n",
       "      <td>Apr 11, 1990</td>\n",
       "    </tr>\n",
       "    <tr>\n",
       "      <th>195</th>\n",
       "      <td>MRI May 30, 2001 empty sella but no problems with endocrine functionPertinent Medical Review of Systems Constitutional:</td>\n",
       "      <td>May 30, 2001</td>\n",
       "    </tr>\n",
       "    <tr>\n",
       "      <th>196</th>\n",
       "      <td>.Feb 18, 1994: made a phone call to Mom and Mom commented that he was talking very fast, hard to interrupt, but was in super happy spirits, so didn't make a big deal of it.</td>\n",
       "      <td>Feb 18, 1994</td>\n",
       "    </tr>\n",
       "    <tr>\n",
       "      <th>197</th>\n",
       "      <td>Brother died February 18, 1981 Parental/Caregiver obligations:</td>\n",
       "      <td>Feb 18, 1981</td>\n",
       "    </tr>\n",
       "    <tr>\n",
       "      <th>198</th>\n",
       "      <td>none; but currently has appt with new HJH PCP Rachel Salas, MD on October. 11, 2013 Other Agency Involvement: No</td>\n",
       "      <td>Oct 11, 2013</td>\n",
       "    </tr>\n",
       "    <tr>\n",
       "      <th>199</th>\n",
       "      <td>.Came back to US on Jan 24 1986, saw Dr. Quackenbush at Beaufort Memorial Hospital.  Checked VPA level and found it to be therapeutic and confirmed BPAD dx.  Also, has a general physician exam and...</td>\n",
       "      <td>Jan 24 1986</td>\n",
       "    </tr>\n",
       "    <tr>\n",
       "      <th>200</th>\n",
       "      <td>July 26, 1978 Total time of visit (in minutes):</td>\n",
       "      <td>Jul 26, 1978</td>\n",
       "    </tr>\n",
       "    <tr>\n",
       "      <th>201</th>\n",
       "      <td>father was depressed inpatient at DFC December 23, 1999 Family History of Substance Abuse: Yes</td>\n",
       "      <td>Dec 23, 1999</td>\n",
       "    </tr>\n",
       "    <tr>\n",
       "      <th>202</th>\n",
       "      <td>May 15, 1989 SOS-10 Total Score:</td>\n",
       "      <td>May 15, 1989</td>\n",
       "    </tr>\n",
       "    <tr>\n",
       "      <th>203</th>\n",
       "      <td>September 06, 1995 Total time of visit (in minutes):</td>\n",
       "      <td>Sep 06, 1995</td>\n",
       "    </tr>\n",
       "    <tr>\n",
       "      <th>204</th>\n",
       "      <td>Mar. 10, 1976 CPT Code: 90791: No medical services</td>\n",
       "      <td>Mar 10, 1976</td>\n",
       "    </tr>\n",
       "    <tr>\n",
       "      <th>205</th>\n",
       "      <td>.Got back to U.S. Jan 27, 1983.</td>\n",
       "      <td>Jan 27, 1983</td>\n",
       "    </tr>\n",
       "    <tr>\n",
       "      <th>206</th>\n",
       "      <td>Queen Hamilton in Bonita Springs courthouse.  Ends October 23 1990 Current legal stresses/needs:</td>\n",
       "      <td>Oct 23 1990</td>\n",
       "    </tr>\n",
       "  </tbody>\n",
       "</table>\n",
       "</div>"
      ],
      "text/plain": [
       "                                                                                                                                                                                                         col  \\\n",
       "193  s 22 year old single Caucasian/Latino woman, unemployed Cook recent college graduate, living along with pet rabbit, with long history of depression with SA but never hospitalized, as well as obesi...   \n",
       "194                                                                                                                                                      April 11, 1990 CPT Code: 90791: No medical services   \n",
       "195                                                                                  MRI May 30, 2001 empty sella but no problems with endocrine functionPertinent Medical Review of Systems Constitutional:   \n",
       "196                             .Feb 18, 1994: made a phone call to Mom and Mom commented that he was talking very fast, hard to interrupt, but was in super happy spirits, so didn't make a big deal of it.   \n",
       "197                                                                                                                                           Brother died February 18, 1981 Parental/Caregiver obligations:   \n",
       "198                                                                                         none; but currently has appt with new HJH PCP Rachel Salas, MD on October. 11, 2013 Other Agency Involvement: No   \n",
       "199  .Came back to US on Jan 24 1986, saw Dr. Quackenbush at Beaufort Memorial Hospital.  Checked VPA level and found it to be therapeutic and confirmed BPAD dx.  Also, has a general physician exam and...   \n",
       "200                                                                                                                                                          July 26, 1978 Total time of visit (in minutes):   \n",
       "201                                                                                                           father was depressed inpatient at DFC December 23, 1999 Family History of Substance Abuse: Yes   \n",
       "202                                                                                                                                                                         May 15, 1989 SOS-10 Total Score:   \n",
       "203                                                                                                                                                     September 06, 1995 Total time of visit (in minutes):   \n",
       "204                                                                                                                                                       Mar. 10, 1976 CPT Code: 90791: No medical services   \n",
       "205                                                                                                                                                                          .Got back to U.S. Jan 27, 1983.   \n",
       "206                                                                                                         Queen Hamilton in Bonita Springs courthouse.  Ends October 23 1990 Current legal stresses/needs:   \n",
       "\n",
       "                 b  \n",
       "193    18 Jan 1995  \n",
       "194   Apr 11, 1990  \n",
       "195   May 30, 2001  \n",
       "196   Feb 18, 1994  \n",
       "197   Feb 18, 1981  \n",
       "198   Oct 11, 2013  \n",
       "199    Jan 24 1986  \n",
       "200   Jul 26, 1978  \n",
       "201   Dec 23, 1999  \n",
       "202   May 15, 1989  \n",
       "203   Sep 06, 1995  \n",
       "204   Mar 10, 1976  \n",
       "205   Jan 27, 1983  \n",
       "206    Oct 23 1990  "
      ]
     },
     "execution_count": 1209,
     "metadata": {},
     "output_type": "execute_result"
    }
   ],
   "source": [
    "df[193:207]"
   ]
  },
  {
   "cell_type": "code",
   "execution_count": 1210,
   "metadata": {},
   "outputs": [
    {
     "data": {
      "text/plain": [
       "\"6e. monitor pt's depressive experience in context of adjusting to upcoming retirement from work in 5/2016 and realtionships with his brother, son and daughter This visit for a one-time consultation only? No\""
      ]
     },
     "execution_count": 1210,
     "metadata": {},
     "output_type": "execute_result"
    }
   ],
   "source": [
    "df[\"col\"][427]"
   ]
  },
  {
   "cell_type": "code",
   "execution_count": 1211,
   "metadata": {},
   "outputs": [],
   "source": [
    "pat = '\\d{1,2}[-/]\\d{2,4}'\n",
    "for index, row in df.iterrows():\n",
    "    if df[\"b\"][index]==0:\n",
    "        if len(re.findall(pat,df[\"col\"][index]))>0:\n",
    "#             print(index)\n",
    "            t=np.array((''.join(re.search(pat,df[\"col\"][index]).group(0))).split(\"/\"))\n",
    "            y=\"{}/01/{}\".format(t[0],t[1])\n",
    "            df[\"b\"][index]=y\n",
    "        "
   ]
  },
  {
   "cell_type": "code",
   "execution_count": 1212,
   "metadata": {},
   "outputs": [],
   "source": [
    "pat = '\\d{4}'\n",
    "for index, row in df.iterrows():\n",
    "    if df[\"b\"][index]==0:\n",
    "        if len(re.findall(pat,df[\"col\"][index]))>0:\n",
    "            t=np.array((''.join(re.search(pat,df[\"col\"][index]).group(0))).split(\"/\"))\n",
    "            y=\"1/01/{}\".format(t[0])\n",
    "            df[\"b\"][index]=y\n",
    "           "
   ]
  },
  {
   "cell_type": "code",
   "execution_count": 1213,
   "metadata": {},
   "outputs": [],
   "source": [
    "# proverochka\n",
    "for index, row in df.iterrows():\n",
    "    if df[\"b\"][index]==0 or df[\"b\"][index]=='':\n",
    "        print(df[\"col\"][index])\n",
    "        print(index)\n"
   ]
  },
  {
   "cell_type": "code",
   "execution_count": 1214,
   "metadata": {},
   "outputs": [
    {
     "name": "stderr",
     "output_type": "stream",
     "text": [
      "C:\\ProgramData\\Anaconda3\\lib\\site-packages\\ipykernel_launcher.py:5: SettingWithCopyWarning: \n",
      "A value is trying to be set on a copy of a slice from a DataFrame\n",
      "\n",
      "See the caveats in the documentation: http://pandas.pydata.org/pandas-docs/stable/indexing.html#indexing-view-versus-copy\n",
      "  \"\"\"\n",
      "C:\\ProgramData\\Anaconda3\\lib\\site-packages\\ipykernel_launcher.py:6: SettingWithCopyWarning: \n",
      "A value is trying to be set on a copy of a slice from a DataFrame\n",
      "\n",
      "See the caveats in the documentation: http://pandas.pydata.org/pandas-docs/stable/indexing.html#indexing-view-versus-copy\n",
      "  \n"
     ]
    }
   ],
   "source": [
    "# proverochka\n",
    "df[\"res\"]=0\n",
    "df[\"index\"]=0\n",
    "for index, row in df.iterrows():\n",
    "    df[\"res\"][index]=parse(df[\"b\"][index]).strftime(\"%Y-%m-%d\") \n",
    "    df[\"index\"][index]=index\n",
    "    \n",
    "    "
   ]
  },
  {
   "cell_type": "code",
   "execution_count": 1215,
   "metadata": {},
   "outputs": [
    {
     "name": "stderr",
     "output_type": "stream",
     "text": [
      "C:\\ProgramData\\Anaconda3\\lib\\site-packages\\ipykernel_launcher.py:3: SettingWithCopyWarning: \n",
      "A value is trying to be set on a copy of a slice from a DataFrame\n",
      "\n",
      "See the caveats in the documentation: http://pandas.pydata.org/pandas-docs/stable/indexing.html#indexing-view-versus-copy\n",
      "  This is separate from the ipykernel package so we can avoid doing imports until\n"
     ]
    }
   ],
   "source": [
    "df[\"index\"]=0\n",
    "for index, row in df.iterrows():\n",
    "    df[\"index\"][index]=index"
   ]
  },
  {
   "cell_type": "code",
   "execution_count": 1216,
   "metadata": {},
   "outputs": [],
   "source": [
    "df=df.drop(columns=['col', 'b'])"
   ]
  },
  {
   "cell_type": "code",
   "execution_count": 1217,
   "metadata": {},
   "outputs": [],
   "source": [
    "# df.sort_index(key = lambda date: datetime.strptime(date, \"%Y-%m-%d\"))\n",
    "# df.strftime(\"%Y-%m-%d\") \n",
    "df['res'] =pd.to_datetime(df.res)\n",
    "df=df.sort_values(by='res')"
   ]
  },
  {
   "cell_type": "code",
   "execution_count": 1218,
   "metadata": {},
   "outputs": [
    {
     "data": {
      "text/html": [
       "<div>\n",
       "<style scoped>\n",
       "    .dataframe tbody tr th:only-of-type {\n",
       "        vertical-align: middle;\n",
       "    }\n",
       "\n",
       "    .dataframe tbody tr th {\n",
       "        vertical-align: top;\n",
       "    }\n",
       "\n",
       "    .dataframe thead th {\n",
       "        text-align: right;\n",
       "    }\n",
       "</style>\n",
       "<table border=\"1\" class=\"dataframe\">\n",
       "  <thead>\n",
       "    <tr style=\"text-align: right;\">\n",
       "      <th></th>\n",
       "      <th>res</th>\n",
       "      <th>index</th>\n",
       "    </tr>\n",
       "  </thead>\n",
       "  <tbody>\n",
       "    <tr>\n",
       "      <th>0</th>\n",
       "      <td>1971-04-10</td>\n",
       "      <td>9</td>\n",
       "    </tr>\n",
       "    <tr>\n",
       "      <th>1</th>\n",
       "      <td>1971-05-18</td>\n",
       "      <td>84</td>\n",
       "    </tr>\n",
       "    <tr>\n",
       "      <th>2</th>\n",
       "      <td>1971-07-08</td>\n",
       "      <td>2</td>\n",
       "    </tr>\n",
       "    <tr>\n",
       "      <th>3</th>\n",
       "      <td>1971-07-11</td>\n",
       "      <td>53</td>\n",
       "    </tr>\n",
       "    <tr>\n",
       "      <th>4</th>\n",
       "      <td>1971-09-12</td>\n",
       "      <td>28</td>\n",
       "    </tr>\n",
       "    <tr>\n",
       "      <th>5</th>\n",
       "      <td>1972-01-01</td>\n",
       "      <td>474</td>\n",
       "    </tr>\n",
       "    <tr>\n",
       "      <th>6</th>\n",
       "      <td>1972-01-13</td>\n",
       "      <td>153</td>\n",
       "    </tr>\n",
       "    <tr>\n",
       "      <th>7</th>\n",
       "      <td>1972-01-26</td>\n",
       "      <td>13</td>\n",
       "    </tr>\n",
       "    <tr>\n",
       "      <th>8</th>\n",
       "      <td>1972-05-06</td>\n",
       "      <td>129</td>\n",
       "    </tr>\n",
       "    <tr>\n",
       "      <th>9</th>\n",
       "      <td>1972-05-13</td>\n",
       "      <td>98</td>\n",
       "    </tr>\n",
       "    <tr>\n",
       "      <th>10</th>\n",
       "      <td>1972-06-10</td>\n",
       "      <td>111</td>\n",
       "    </tr>\n",
       "    <tr>\n",
       "      <th>11</th>\n",
       "      <td>1972-06-15</td>\n",
       "      <td>225</td>\n",
       "    </tr>\n",
       "    <tr>\n",
       "      <th>12</th>\n",
       "      <td>1972-07-20</td>\n",
       "      <td>31</td>\n",
       "    </tr>\n",
       "    <tr>\n",
       "      <th>13</th>\n",
       "      <td>1972-10-04</td>\n",
       "      <td>171</td>\n",
       "    </tr>\n",
       "    <tr>\n",
       "      <th>14</th>\n",
       "      <td>1972-11-30</td>\n",
       "      <td>191</td>\n",
       "    </tr>\n",
       "    <tr>\n",
       "      <th>15</th>\n",
       "      <td>1973-01-01</td>\n",
       "      <td>486</td>\n",
       "    </tr>\n",
       "    <tr>\n",
       "      <th>16</th>\n",
       "      <td>1973-02-01</td>\n",
       "      <td>335</td>\n",
       "    </tr>\n",
       "    <tr>\n",
       "      <th>17</th>\n",
       "      <td>1973-02-01</td>\n",
       "      <td>415</td>\n",
       "    </tr>\n",
       "    <tr>\n",
       "      <th>18</th>\n",
       "      <td>1973-02-14</td>\n",
       "      <td>36</td>\n",
       "    </tr>\n",
       "    <tr>\n",
       "      <th>19</th>\n",
       "      <td>1973-03-01</td>\n",
       "      <td>405</td>\n",
       "    </tr>\n",
       "    <tr>\n",
       "      <th>20</th>\n",
       "      <td>1973-03-01</td>\n",
       "      <td>323</td>\n",
       "    </tr>\n",
       "    <tr>\n",
       "      <th>21</th>\n",
       "      <td>1973-04-01</td>\n",
       "      <td>422</td>\n",
       "    </tr>\n",
       "    <tr>\n",
       "      <th>22</th>\n",
       "      <td>1973-06-01</td>\n",
       "      <td>375</td>\n",
       "    </tr>\n",
       "    <tr>\n",
       "      <th>23</th>\n",
       "      <td>1973-07-01</td>\n",
       "      <td>380</td>\n",
       "    </tr>\n",
       "    <tr>\n",
       "      <th>24</th>\n",
       "      <td>1973-10-01</td>\n",
       "      <td>345</td>\n",
       "    </tr>\n",
       "    <tr>\n",
       "      <th>25</th>\n",
       "      <td>1973-12-01</td>\n",
       "      <td>57</td>\n",
       "    </tr>\n",
       "    <tr>\n",
       "      <th>26</th>\n",
       "      <td>1974-01-01</td>\n",
       "      <td>481</td>\n",
       "    </tr>\n",
       "    <tr>\n",
       "      <th>27</th>\n",
       "      <td>1974-02-01</td>\n",
       "      <td>436</td>\n",
       "    </tr>\n",
       "    <tr>\n",
       "      <th>28</th>\n",
       "      <td>1974-02-24</td>\n",
       "      <td>104</td>\n",
       "    </tr>\n",
       "    <tr>\n",
       "      <th>29</th>\n",
       "      <td>1974-03-01</td>\n",
       "      <td>299</td>\n",
       "    </tr>\n",
       "    <tr>\n",
       "      <th>...</th>\n",
       "      <td>...</td>\n",
       "      <td>...</td>\n",
       "    </tr>\n",
       "    <tr>\n",
       "      <th>470</th>\n",
       "      <td>2012-06-25</td>\n",
       "      <td>220</td>\n",
       "    </tr>\n",
       "    <tr>\n",
       "      <th>471</th>\n",
       "      <td>2012-09-01</td>\n",
       "      <td>208</td>\n",
       "    </tr>\n",
       "    <tr>\n",
       "      <th>472</th>\n",
       "      <td>2012-09-01</td>\n",
       "      <td>243</td>\n",
       "    </tr>\n",
       "    <tr>\n",
       "      <th>473</th>\n",
       "      <td>2012-10-21</td>\n",
       "      <td>139</td>\n",
       "    </tr>\n",
       "    <tr>\n",
       "      <th>474</th>\n",
       "      <td>2012-11-01</td>\n",
       "      <td>320</td>\n",
       "    </tr>\n",
       "    <tr>\n",
       "      <th>475</th>\n",
       "      <td>2012-12-01</td>\n",
       "      <td>383</td>\n",
       "    </tr>\n",
       "    <tr>\n",
       "      <th>476</th>\n",
       "      <td>2013-01-01</td>\n",
       "      <td>244</td>\n",
       "    </tr>\n",
       "    <tr>\n",
       "      <th>477</th>\n",
       "      <td>2013-01-01</td>\n",
       "      <td>286</td>\n",
       "    </tr>\n",
       "    <tr>\n",
       "      <th>478</th>\n",
       "      <td>2013-01-01</td>\n",
       "      <td>480</td>\n",
       "    </tr>\n",
       "    <tr>\n",
       "      <th>479</th>\n",
       "      <td>2013-04-01</td>\n",
       "      <td>431</td>\n",
       "    </tr>\n",
       "    <tr>\n",
       "      <th>480</th>\n",
       "      <td>2013-09-01</td>\n",
       "      <td>279</td>\n",
       "    </tr>\n",
       "    <tr>\n",
       "      <th>481</th>\n",
       "      <td>2013-10-11</td>\n",
       "      <td>198</td>\n",
       "    </tr>\n",
       "    <tr>\n",
       "      <th>482</th>\n",
       "      <td>2014-01-01</td>\n",
       "      <td>381</td>\n",
       "    </tr>\n",
       "    <tr>\n",
       "      <th>483</th>\n",
       "      <td>2014-01-01</td>\n",
       "      <td>463</td>\n",
       "    </tr>\n",
       "    <tr>\n",
       "      <th>484</th>\n",
       "      <td>2014-07-01</td>\n",
       "      <td>366</td>\n",
       "    </tr>\n",
       "    <tr>\n",
       "      <th>485</th>\n",
       "      <td>2014-10-01</td>\n",
       "      <td>439</td>\n",
       "    </tr>\n",
       "    <tr>\n",
       "      <th>486</th>\n",
       "      <td>2014-10-01</td>\n",
       "      <td>255</td>\n",
       "    </tr>\n",
       "    <tr>\n",
       "      <th>487</th>\n",
       "      <td>2014-12-01</td>\n",
       "      <td>401</td>\n",
       "    </tr>\n",
       "    <tr>\n",
       "      <th>488</th>\n",
       "      <td>2015-01-01</td>\n",
       "      <td>475</td>\n",
       "    </tr>\n",
       "    <tr>\n",
       "      <th>489</th>\n",
       "      <td>2015-09-01</td>\n",
       "      <td>257</td>\n",
       "    </tr>\n",
       "    <tr>\n",
       "      <th>490</th>\n",
       "      <td>2015-09-28</td>\n",
       "      <td>152</td>\n",
       "    </tr>\n",
       "    <tr>\n",
       "      <th>491</th>\n",
       "      <td>2015-10-01</td>\n",
       "      <td>235</td>\n",
       "    </tr>\n",
       "    <tr>\n",
       "      <th>492</th>\n",
       "      <td>2016-01-01</td>\n",
       "      <td>464</td>\n",
       "    </tr>\n",
       "    <tr>\n",
       "      <th>493</th>\n",
       "      <td>2016-02-01</td>\n",
       "      <td>253</td>\n",
       "    </tr>\n",
       "    <tr>\n",
       "      <th>494</th>\n",
       "      <td>2016-05-01</td>\n",
       "      <td>427</td>\n",
       "    </tr>\n",
       "    <tr>\n",
       "      <th>495</th>\n",
       "      <td>2016-05-01</td>\n",
       "      <td>231</td>\n",
       "    </tr>\n",
       "    <tr>\n",
       "      <th>496</th>\n",
       "      <td>2016-05-30</td>\n",
       "      <td>141</td>\n",
       "    </tr>\n",
       "    <tr>\n",
       "      <th>497</th>\n",
       "      <td>2016-10-13</td>\n",
       "      <td>186</td>\n",
       "    </tr>\n",
       "    <tr>\n",
       "      <th>498</th>\n",
       "      <td>2016-10-19</td>\n",
       "      <td>161</td>\n",
       "    </tr>\n",
       "    <tr>\n",
       "      <th>499</th>\n",
       "      <td>2016-11-01</td>\n",
       "      <td>413</td>\n",
       "    </tr>\n",
       "  </tbody>\n",
       "</table>\n",
       "<p>500 rows × 2 columns</p>\n",
       "</div>"
      ],
      "text/plain": [
       "           res  index\n",
       "0   1971-04-10      9\n",
       "1   1971-05-18     84\n",
       "2   1971-07-08      2\n",
       "3   1971-07-11     53\n",
       "4   1971-09-12     28\n",
       "5   1972-01-01    474\n",
       "6   1972-01-13    153\n",
       "7   1972-01-26     13\n",
       "8   1972-05-06    129\n",
       "9   1972-05-13     98\n",
       "10  1972-06-10    111\n",
       "11  1972-06-15    225\n",
       "12  1972-07-20     31\n",
       "13  1972-10-04    171\n",
       "14  1972-11-30    191\n",
       "15  1973-01-01    486\n",
       "16  1973-02-01    335\n",
       "17  1973-02-01    415\n",
       "18  1973-02-14     36\n",
       "19  1973-03-01    405\n",
       "20  1973-03-01    323\n",
       "21  1973-04-01    422\n",
       "22  1973-06-01    375\n",
       "23  1973-07-01    380\n",
       "24  1973-10-01    345\n",
       "25  1973-12-01     57\n",
       "26  1974-01-01    481\n",
       "27  1974-02-01    436\n",
       "28  1974-02-24    104\n",
       "29  1974-03-01    299\n",
       "..         ...    ...\n",
       "470 2012-06-25    220\n",
       "471 2012-09-01    208\n",
       "472 2012-09-01    243\n",
       "473 2012-10-21    139\n",
       "474 2012-11-01    320\n",
       "475 2012-12-01    383\n",
       "476 2013-01-01    244\n",
       "477 2013-01-01    286\n",
       "478 2013-01-01    480\n",
       "479 2013-04-01    431\n",
       "480 2013-09-01    279\n",
       "481 2013-10-11    198\n",
       "482 2014-01-01    381\n",
       "483 2014-01-01    463\n",
       "484 2014-07-01    366\n",
       "485 2014-10-01    439\n",
       "486 2014-10-01    255\n",
       "487 2014-12-01    401\n",
       "488 2015-01-01    475\n",
       "489 2015-09-01    257\n",
       "490 2015-09-28    152\n",
       "491 2015-10-01    235\n",
       "492 2016-01-01    464\n",
       "493 2016-02-01    253\n",
       "494 2016-05-01    427\n",
       "495 2016-05-01    231\n",
       "496 2016-05-30    141\n",
       "497 2016-10-13    186\n",
       "498 2016-10-19    161\n",
       "499 2016-11-01    413\n",
       "\n",
       "[500 rows x 2 columns]"
      ]
     },
     "execution_count": 1218,
     "metadata": {},
     "output_type": "execute_result"
    }
   ],
   "source": [
    "df = df.reset_index(drop=True)"
   ]
  },
  {
   "cell_type": "code",
   "execution_count": 1220,
   "metadata": {},
   "outputs": [
    {
     "data": {
      "text/html": [
       "<div>\n",
       "<style scoped>\n",
       "    .dataframe tbody tr th:only-of-type {\n",
       "        vertical-align: middle;\n",
       "    }\n",
       "\n",
       "    .dataframe tbody tr th {\n",
       "        vertical-align: top;\n",
       "    }\n",
       "\n",
       "    .dataframe thead th {\n",
       "        text-align: right;\n",
       "    }\n",
       "</style>\n",
       "<table border=\"1\" class=\"dataframe\">\n",
       "  <thead>\n",
       "    <tr style=\"text-align: right;\">\n",
       "      <th></th>\n",
       "      <th>res</th>\n",
       "      <th>index</th>\n",
       "    </tr>\n",
       "  </thead>\n",
       "  <tbody>\n",
       "    <tr>\n",
       "      <th>0</th>\n",
       "      <td>1971-04-10</td>\n",
       "      <td>9</td>\n",
       "    </tr>\n",
       "    <tr>\n",
       "      <th>1</th>\n",
       "      <td>1971-05-18</td>\n",
       "      <td>84</td>\n",
       "    </tr>\n",
       "    <tr>\n",
       "      <th>2</th>\n",
       "      <td>1971-07-08</td>\n",
       "      <td>2</td>\n",
       "    </tr>\n",
       "    <tr>\n",
       "      <th>3</th>\n",
       "      <td>1971-07-11</td>\n",
       "      <td>53</td>\n",
       "    </tr>\n",
       "    <tr>\n",
       "      <th>4</th>\n",
       "      <td>1971-09-12</td>\n",
       "      <td>28</td>\n",
       "    </tr>\n",
       "    <tr>\n",
       "      <th>5</th>\n",
       "      <td>1972-01-01</td>\n",
       "      <td>474</td>\n",
       "    </tr>\n",
       "    <tr>\n",
       "      <th>6</th>\n",
       "      <td>1972-01-13</td>\n",
       "      <td>153</td>\n",
       "    </tr>\n",
       "    <tr>\n",
       "      <th>7</th>\n",
       "      <td>1972-01-26</td>\n",
       "      <td>13</td>\n",
       "    </tr>\n",
       "    <tr>\n",
       "      <th>8</th>\n",
       "      <td>1972-05-06</td>\n",
       "      <td>129</td>\n",
       "    </tr>\n",
       "    <tr>\n",
       "      <th>9</th>\n",
       "      <td>1972-05-13</td>\n",
       "      <td>98</td>\n",
       "    </tr>\n",
       "    <tr>\n",
       "      <th>10</th>\n",
       "      <td>1972-06-10</td>\n",
       "      <td>111</td>\n",
       "    </tr>\n",
       "    <tr>\n",
       "      <th>11</th>\n",
       "      <td>1972-06-15</td>\n",
       "      <td>225</td>\n",
       "    </tr>\n",
       "    <tr>\n",
       "      <th>12</th>\n",
       "      <td>1972-07-20</td>\n",
       "      <td>31</td>\n",
       "    </tr>\n",
       "    <tr>\n",
       "      <th>13</th>\n",
       "      <td>1972-10-04</td>\n",
       "      <td>171</td>\n",
       "    </tr>\n",
       "    <tr>\n",
       "      <th>14</th>\n",
       "      <td>1972-11-30</td>\n",
       "      <td>191</td>\n",
       "    </tr>\n",
       "    <tr>\n",
       "      <th>15</th>\n",
       "      <td>1973-01-01</td>\n",
       "      <td>486</td>\n",
       "    </tr>\n",
       "    <tr>\n",
       "      <th>16</th>\n",
       "      <td>1973-02-01</td>\n",
       "      <td>335</td>\n",
       "    </tr>\n",
       "    <tr>\n",
       "      <th>17</th>\n",
       "      <td>1973-02-01</td>\n",
       "      <td>415</td>\n",
       "    </tr>\n",
       "    <tr>\n",
       "      <th>18</th>\n",
       "      <td>1973-02-14</td>\n",
       "      <td>36</td>\n",
       "    </tr>\n",
       "    <tr>\n",
       "      <th>19</th>\n",
       "      <td>1973-03-01</td>\n",
       "      <td>405</td>\n",
       "    </tr>\n",
       "    <tr>\n",
       "      <th>20</th>\n",
       "      <td>1973-03-01</td>\n",
       "      <td>323</td>\n",
       "    </tr>\n",
       "    <tr>\n",
       "      <th>21</th>\n",
       "      <td>1973-04-01</td>\n",
       "      <td>422</td>\n",
       "    </tr>\n",
       "    <tr>\n",
       "      <th>22</th>\n",
       "      <td>1973-06-01</td>\n",
       "      <td>375</td>\n",
       "    </tr>\n",
       "    <tr>\n",
       "      <th>23</th>\n",
       "      <td>1973-07-01</td>\n",
       "      <td>380</td>\n",
       "    </tr>\n",
       "    <tr>\n",
       "      <th>24</th>\n",
       "      <td>1973-10-01</td>\n",
       "      <td>345</td>\n",
       "    </tr>\n",
       "    <tr>\n",
       "      <th>25</th>\n",
       "      <td>1973-12-01</td>\n",
       "      <td>57</td>\n",
       "    </tr>\n",
       "    <tr>\n",
       "      <th>26</th>\n",
       "      <td>1974-01-01</td>\n",
       "      <td>481</td>\n",
       "    </tr>\n",
       "    <tr>\n",
       "      <th>27</th>\n",
       "      <td>1974-02-01</td>\n",
       "      <td>436</td>\n",
       "    </tr>\n",
       "    <tr>\n",
       "      <th>28</th>\n",
       "      <td>1974-02-24</td>\n",
       "      <td>104</td>\n",
       "    </tr>\n",
       "    <tr>\n",
       "      <th>29</th>\n",
       "      <td>1974-03-01</td>\n",
       "      <td>299</td>\n",
       "    </tr>\n",
       "    <tr>\n",
       "      <th>...</th>\n",
       "      <td>...</td>\n",
       "      <td>...</td>\n",
       "    </tr>\n",
       "    <tr>\n",
       "      <th>470</th>\n",
       "      <td>2012-06-25</td>\n",
       "      <td>220</td>\n",
       "    </tr>\n",
       "    <tr>\n",
       "      <th>471</th>\n",
       "      <td>2012-09-01</td>\n",
       "      <td>208</td>\n",
       "    </tr>\n",
       "    <tr>\n",
       "      <th>472</th>\n",
       "      <td>2012-09-01</td>\n",
       "      <td>243</td>\n",
       "    </tr>\n",
       "    <tr>\n",
       "      <th>473</th>\n",
       "      <td>2012-10-21</td>\n",
       "      <td>139</td>\n",
       "    </tr>\n",
       "    <tr>\n",
       "      <th>474</th>\n",
       "      <td>2012-11-01</td>\n",
       "      <td>320</td>\n",
       "    </tr>\n",
       "    <tr>\n",
       "      <th>475</th>\n",
       "      <td>2012-12-01</td>\n",
       "      <td>383</td>\n",
       "    </tr>\n",
       "    <tr>\n",
       "      <th>476</th>\n",
       "      <td>2013-01-01</td>\n",
       "      <td>244</td>\n",
       "    </tr>\n",
       "    <tr>\n",
       "      <th>477</th>\n",
       "      <td>2013-01-01</td>\n",
       "      <td>286</td>\n",
       "    </tr>\n",
       "    <tr>\n",
       "      <th>478</th>\n",
       "      <td>2013-01-01</td>\n",
       "      <td>480</td>\n",
       "    </tr>\n",
       "    <tr>\n",
       "      <th>479</th>\n",
       "      <td>2013-04-01</td>\n",
       "      <td>431</td>\n",
       "    </tr>\n",
       "    <tr>\n",
       "      <th>480</th>\n",
       "      <td>2013-09-01</td>\n",
       "      <td>279</td>\n",
       "    </tr>\n",
       "    <tr>\n",
       "      <th>481</th>\n",
       "      <td>2013-10-11</td>\n",
       "      <td>198</td>\n",
       "    </tr>\n",
       "    <tr>\n",
       "      <th>482</th>\n",
       "      <td>2014-01-01</td>\n",
       "      <td>381</td>\n",
       "    </tr>\n",
       "    <tr>\n",
       "      <th>483</th>\n",
       "      <td>2014-01-01</td>\n",
       "      <td>463</td>\n",
       "    </tr>\n",
       "    <tr>\n",
       "      <th>484</th>\n",
       "      <td>2014-07-01</td>\n",
       "      <td>366</td>\n",
       "    </tr>\n",
       "    <tr>\n",
       "      <th>485</th>\n",
       "      <td>2014-10-01</td>\n",
       "      <td>439</td>\n",
       "    </tr>\n",
       "    <tr>\n",
       "      <th>486</th>\n",
       "      <td>2014-10-01</td>\n",
       "      <td>255</td>\n",
       "    </tr>\n",
       "    <tr>\n",
       "      <th>487</th>\n",
       "      <td>2014-12-01</td>\n",
       "      <td>401</td>\n",
       "    </tr>\n",
       "    <tr>\n",
       "      <th>488</th>\n",
       "      <td>2015-01-01</td>\n",
       "      <td>475</td>\n",
       "    </tr>\n",
       "    <tr>\n",
       "      <th>489</th>\n",
       "      <td>2015-09-01</td>\n",
       "      <td>257</td>\n",
       "    </tr>\n",
       "    <tr>\n",
       "      <th>490</th>\n",
       "      <td>2015-09-28</td>\n",
       "      <td>152</td>\n",
       "    </tr>\n",
       "    <tr>\n",
       "      <th>491</th>\n",
       "      <td>2015-10-01</td>\n",
       "      <td>235</td>\n",
       "    </tr>\n",
       "    <tr>\n",
       "      <th>492</th>\n",
       "      <td>2016-01-01</td>\n",
       "      <td>464</td>\n",
       "    </tr>\n",
       "    <tr>\n",
       "      <th>493</th>\n",
       "      <td>2016-02-01</td>\n",
       "      <td>253</td>\n",
       "    </tr>\n",
       "    <tr>\n",
       "      <th>494</th>\n",
       "      <td>2016-05-01</td>\n",
       "      <td>427</td>\n",
       "    </tr>\n",
       "    <tr>\n",
       "      <th>495</th>\n",
       "      <td>2016-05-01</td>\n",
       "      <td>231</td>\n",
       "    </tr>\n",
       "    <tr>\n",
       "      <th>496</th>\n",
       "      <td>2016-05-30</td>\n",
       "      <td>141</td>\n",
       "    </tr>\n",
       "    <tr>\n",
       "      <th>497</th>\n",
       "      <td>2016-10-13</td>\n",
       "      <td>186</td>\n",
       "    </tr>\n",
       "    <tr>\n",
       "      <th>498</th>\n",
       "      <td>2016-10-19</td>\n",
       "      <td>161</td>\n",
       "    </tr>\n",
       "    <tr>\n",
       "      <th>499</th>\n",
       "      <td>2016-11-01</td>\n",
       "      <td>413</td>\n",
       "    </tr>\n",
       "  </tbody>\n",
       "</table>\n",
       "<p>500 rows × 2 columns</p>\n",
       "</div>"
      ],
      "text/plain": [
       "           res  index\n",
       "0   1971-04-10      9\n",
       "1   1971-05-18     84\n",
       "2   1971-07-08      2\n",
       "3   1971-07-11     53\n",
       "4   1971-09-12     28\n",
       "5   1972-01-01    474\n",
       "6   1972-01-13    153\n",
       "7   1972-01-26     13\n",
       "8   1972-05-06    129\n",
       "9   1972-05-13     98\n",
       "10  1972-06-10    111\n",
       "11  1972-06-15    225\n",
       "12  1972-07-20     31\n",
       "13  1972-10-04    171\n",
       "14  1972-11-30    191\n",
       "15  1973-01-01    486\n",
       "16  1973-02-01    335\n",
       "17  1973-02-01    415\n",
       "18  1973-02-14     36\n",
       "19  1973-03-01    405\n",
       "20  1973-03-01    323\n",
       "21  1973-04-01    422\n",
       "22  1973-06-01    375\n",
       "23  1973-07-01    380\n",
       "24  1973-10-01    345\n",
       "25  1973-12-01     57\n",
       "26  1974-01-01    481\n",
       "27  1974-02-01    436\n",
       "28  1974-02-24    104\n",
       "29  1974-03-01    299\n",
       "..         ...    ...\n",
       "470 2012-06-25    220\n",
       "471 2012-09-01    208\n",
       "472 2012-09-01    243\n",
       "473 2012-10-21    139\n",
       "474 2012-11-01    320\n",
       "475 2012-12-01    383\n",
       "476 2013-01-01    244\n",
       "477 2013-01-01    286\n",
       "478 2013-01-01    480\n",
       "479 2013-04-01    431\n",
       "480 2013-09-01    279\n",
       "481 2013-10-11    198\n",
       "482 2014-01-01    381\n",
       "483 2014-01-01    463\n",
       "484 2014-07-01    366\n",
       "485 2014-10-01    439\n",
       "486 2014-10-01    255\n",
       "487 2014-12-01    401\n",
       "488 2015-01-01    475\n",
       "489 2015-09-01    257\n",
       "490 2015-09-28    152\n",
       "491 2015-10-01    235\n",
       "492 2016-01-01    464\n",
       "493 2016-02-01    253\n",
       "494 2016-05-01    427\n",
       "495 2016-05-01    231\n",
       "496 2016-05-30    141\n",
       "497 2016-10-13    186\n",
       "498 2016-10-19    161\n",
       "499 2016-11-01    413\n",
       "\n",
       "[500 rows x 2 columns]"
      ]
     },
     "execution_count": 1220,
     "metadata": {},
     "output_type": "execute_result"
    }
   ],
   "source": [
    "df"
   ]
  },
  {
   "cell_type": "code",
   "execution_count": 1221,
   "metadata": {},
   "outputs": [],
   "source": [
    "# 427 та 231 мають однакові дні"
   ]
  },
  {
   "cell_type": "markdown",
   "metadata": {},
   "source": [
    "<font color = blue >\n",
    "\n",
    "### Expected Output\n",
    "\n",
    "</font>\n",
    "\n",
    "<table align= 'left'>\n",
    "    <tr><td></td><td> res</td><td>index</td></tr>\n",
    "    <tr><td>0</td><td> 1971-04-10</td><td>9</td></tr>    \n",
    "    <tr><td>1</td><td>1971-05-18</td><td>84</td></tr>    \n",
    "    <tr><td>2</td><td>1971-07-08</td><td>2</td></tr>    \n",
    "    <tr><td>3</td><td>1971-07-11</td><td>53</td></tr>    \n",
    "    <tr><td>4</td><td>1971-09-12</td><td>28</td></tr>    \n",
    "    <tr><td>.</td></tr>    \n",
    "    <tr><td>.</td></tr>    \n",
    "    <tr><td>.</td></tr>    \n",
    "    <tr><td>495 </td><td>2016-05-01</td><td>    427</td></tr>    \n",
    "    <tr><td>496</td><td> 2016-05-30  </td><td>  141</td></tr>    \n",
    "    <tr><td>497</td><td> 2016-10-13  </td><td>  186</td></tr>    \n",
    "    <tr><td>498</td><td> 2016-10-19   </td><td> 161</td></tr>    \n",
    "    <tr><td>499 </td><td>2016-11-01 </td><td>   413</td></tr>    \n",
    "</table> "
   ]
  },
  {
   "cell_type": "markdown",
   "metadata": {},
   "source": [
    "<font color = green >\n",
    "\n",
    "## Learn more\n",
    "</font>\n",
    "\n",
    "Regular expression operations\n",
    "<br>\n",
    "https://docs.python.org/3/library/re.html\n",
    "\n",
    "Python Regular Expression Tutorial\n",
    "<br>\n",
    "https://www.datacamp.com/community/tutorials/python-regular-expression-tutorial\n",
    "\n",
    "pandas documentation - API Reference - Series \n",
    "<br>\n",
    "https://pandas.pydata.org/pandas-docs/stable/reference/series.html\n",
    "\n",
    "\n",
    "Regular Expression Analyzer\n",
    "<br>\n",
    "http://xenon.stanford.edu/~xusch/regexp/"
   ]
  },
  {
   "cell_type": "code",
   "execution_count": null,
   "metadata": {},
   "outputs": [],
   "source": []
  }
 ],
 "metadata": {
  "kernelspec": {
   "display_name": "Python 3",
   "language": "python",
   "name": "python3"
  },
  "language_info": {
   "codemirror_mode": {
    "name": "ipython",
    "version": 3
   },
   "file_extension": ".py",
   "mimetype": "text/x-python",
   "name": "python",
   "nbconvert_exporter": "python",
   "pygments_lexer": "ipython3",
   "version": "3.7.1"
  }
 },
 "nbformat": 4,
 "nbformat_minor": 2
}
