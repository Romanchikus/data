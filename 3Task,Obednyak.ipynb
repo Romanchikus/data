{
 "cells": [
  {
   "cell_type": "code",
   "execution_count": 1,
   "metadata": {},
   "outputs": [],
   "source": [
    "import numpy as np\n",
    "from sklearn.utils import shuffle\n",
    "from sklearn import datasets\n",
    "import sklearn as sklearn\n",
    "import matplotlib.pyplot as plt \n",
    "from collections import Counter\n",
    "\n",
    "\n",
    "def predicat(k):\n",
    "    iris = datasets.load_iris()\n",
    "    labels =iris.target_names\n",
    "    x, y =shuffle( iris.data, iris.target)\n",
    "    x_train= x[:49]\n",
    "    y_train= y[:49]\n",
    "    x_test= x[99:149]\n",
    "    y_test= y[99:149]\n",
    "    k=k\n",
    "\n",
    "\n",
    "    num_test = x_test.shape[0]\n",
    "    num_train = x_train.shape[0]\n",
    "    dist = np.zeros((num_train,2))\n",
    "    y_pred = np.zeros((num_test,2))\n",
    "    for j in range(num_test):\n",
    "        for i in range(num_train):\n",
    "            dist[i,0] = np.sqrt(np.sum(np.square(x_train[i]-x_test[j])))\n",
    "            dist[i,1] = y_train[i]\n",
    "        dist1=np.argsort(dist, axis=0)[:k]\n",
    "        s=dist1[:,0]\n",
    "        neighbors = y_train[s]\n",
    "        count = Counter(neighbors)\n",
    "        y_pred[j,0] = count.most_common(1)[0][0]\n",
    "        y_pred[j,1] = y_test[j]\n",
    "\n",
    "    accur=np.mean(y_pred[:,0]==y_pred[:,1])\n",
    "    \n",
    "    return accur \n",
    "\n",
    "\n"
   ]
  },
  {
   "cell_type": "code",
   "execution_count": 3,
   "metadata": {},
   "outputs": [
    {
     "name": "stdout",
     "output_type": "stream",
     "text": [
      "0.956\n"
     ]
    }
   ],
   "source": [
    "from sklearn.neighbors import KNeighborsRegressor\n",
    "from sklearn import datasets\n",
    "iris = datasets.load_iris()\n",
    "labels =iris.target_names\n",
    "x, y =shuffle( iris.data, iris.target)\n",
    "X_train= x[:49]\n",
    "y_train= y[:49]\n",
    "X_test= x[99:149]\n",
    "y_test= y[99:149]\n",
    "n_neighbors =5\n",
    "knn_reg = KNeighborsRegressor(n_neighbors = n_neighbors).fit(X_train, y_train)\n",
    "knn_reg.score(X_test, y_test)  # R2 score\n",
    "\n",
    "\n",
    "\n",
    "# R2 score from  sklearn.metrics\n",
    "z= knn_reg.predict(X_test)\n",
    "from sklearn.metrics.scorer import r2_score\n",
    "print (r2_score(y_test,  z))\n"
   ]
  },
  {
   "cell_type": "code",
   "execution_count": null,
   "metadata": {},
   "outputs": [],
   "source": []
  }
 ],
 "metadata": {
  "kernelspec": {
   "display_name": "Python 3",
   "language": "python",
   "name": "python3"
  },
  "language_info": {
   "codemirror_mode": {
    "name": "ipython",
    "version": 3
   },
   "file_extension": ".py",
   "mimetype": "text/x-python",
   "name": "python",
   "nbconvert_exporter": "python",
   "pygments_lexer": "ipython3",
   "version": "3.6.8"
  }
 },
 "nbformat": 4,
 "nbformat_minor": 2
}
